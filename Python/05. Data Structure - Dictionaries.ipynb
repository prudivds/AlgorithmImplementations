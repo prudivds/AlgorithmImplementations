{
 "cells": [
  {
   "cell_type": "markdown",
   "metadata": {},
   "source": [
    "##############################################################################\n",
    "#### Python Session                       \n",
    "#### Date:  01/29/2019\n",
    "#### Author: Prudhvi\n",
    "\n",
    "##### Description: This session will cover:\n",
    "                     Working with Dictionary \n",
    "                     \n",
    "##############################################################################"
   ]
  },
  {
   "cell_type": "markdown",
   "metadata": {},
   "source": [
    "# Dictionaries (Hash Table)\n",
    "\n",
    "\n",
    "#Dictionary is an unordered set of key and value pair.\n",
    "#It is an container that contains data, enclosed within curly braces.\n",
    "#The pair i.e., key and value is known as item.\n",
    "#The key passed in the item must be unique.\n",
    "#The key and the value is separated by a colon(:). This pair is known as item. Items are separated from each other by a comma(,). Different items are enclosed within a curly brace and this forms Dictionary.\n",
    "#Dictionary is mutable\n",
    "#Key must be unique and immutable. Value is accessed by key. Value can be updated while key cannot be changed.\n",
    "\n"
   ]
  },
  {
   "cell_type": "code",
   "execution_count": 1,
   "metadata": {},
   "outputs": [
    {
     "name": "stdout",
     "output_type": "stream",
     "text": [
      "<class 'dict'>\n"
     ]
    }
   ],
   "source": [
    "empty_dictionary = {}\n",
    "print(type(empty_dictionary))\n"
   ]
  },
  {
   "cell_type": "code",
   "execution_count": 2,
   "metadata": {},
   "outputs": [
    {
     "name": "stdout",
     "output_type": "stream",
     "text": [
      "{'Name': 'Bob', 'Age': 30, 'Height': '5.6 ft', 'Hobby': 'Music'}\n"
     ]
    }
   ],
   "source": [
    "#Dictionaries (Hash Table)\n",
    "#dictionary have no concept of order among elements\n",
    "\n",
    "bio_data = {'Name': 'Bob', 'Age': 30, \n",
    "            'Height': '5.6 ft', \n",
    "            'Hobby': 'Music'}\n",
    "print(bio_data)"
   ]
  },
  {
   "cell_type": "markdown",
   "metadata": {},
   "source": [
    "# Accessing Values\n",
    "\n",
    "Since Index is not defined, a Dictionaries value can be accessed by their keys.\n",
    "#Syntax: [key]"
   ]
  },
  {
   "cell_type": "code",
   "execution_count": 3,
   "metadata": {},
   "outputs": [
    {
     "name": "stdout",
     "output_type": "stream",
     "text": [
      "ID of the first employee : 1\n",
      "ID of the second employee : 2\n",
      "Name of the first employee : ABC\n",
      "Name of the second employee : XYZ\n"
     ]
    }
   ],
   "source": [
    "Employee1 = {'Employee_ID':1,'Emp_Name':\"ABC\",\n",
    "             'Profession':\"Developer\"}\n",
    "\n",
    "Employee2 = {'Employee_ID':2,'Emp_Name':\"XYZ\"\n",
    "             ,'Profession':\"Tester\"}\n",
    "\n",
    "Employee3 = {'Employee_ID':3,'Emp_Name':\"Vamshi\"\n",
    "             ,'Profession':\"ML Engineer\"}\n",
    "\n",
    "print(\"ID of the first employee :\",\n",
    "      Employee1['Employee_ID'])\n",
    "print(\"ID of the second employee :\",\n",
    "      Employee2['Employee_ID'])\n",
    "\n",
    "print(\"Name of the first employee :\",\n",
    "      Employee1['Emp_Name'])\n",
    "print(\"Name of the second employee :\",\n",
    "      Employee2['Emp_Name'])\n"
   ]
  },
  {
   "cell_type": "code",
   "execution_count": 4,
   "metadata": {},
   "outputs": [
    {
     "data": {
      "text/plain": [
       "1"
      ]
     },
     "execution_count": 4,
     "metadata": {},
     "output_type": "execute_result"
    }
   ],
   "source": [
    "Employee1['Employee_ID']"
   ]
  },
  {
   "cell_type": "code",
   "execution_count": 5,
   "metadata": {},
   "outputs": [
    {
     "data": {
      "text/plain": [
       "'ABC'"
      ]
     },
     "execution_count": 5,
     "metadata": {},
     "output_type": "execute_result"
    }
   ],
   "source": [
    "Employee1['Emp_Name']"
   ]
  },
  {
   "cell_type": "code",
   "execution_count": 1,
   "metadata": {},
   "outputs": [
    {
     "name": "stdout",
     "output_type": "stream",
     "text": [
      "ABC\n",
      "1\n",
      "Null\n"
     ]
    }
   ],
   "source": [
    "Employee1 = {'Employee_ID':[1,2,3],'Emp_Name':[\"ABC\",\"XYZ\",\"Prudhvi\"],\n",
    "             'Profession':[\"Null\",\"Tester\",\"ML Developer\"]}\n",
    "\n",
    "print(Employee1[\"Emp_Name\"][0])\n",
    "print(Employee1[\"Employee_ID\"][0])\n",
    "print(Employee1[\"Profession\"][0])"
   ]
  },
  {
   "cell_type": "code",
   "execution_count": 3,
   "metadata": {
    "scrolled": true
   },
   "outputs": [
    {
     "data": {
      "text/html": [
       "<div>\n",
       "<style scoped>\n",
       "    .dataframe tbody tr th:only-of-type {\n",
       "        vertical-align: middle;\n",
       "    }\n",
       "\n",
       "    .dataframe tbody tr th {\n",
       "        vertical-align: top;\n",
       "    }\n",
       "\n",
       "    .dataframe thead th {\n",
       "        text-align: right;\n",
       "    }\n",
       "</style>\n",
       "<table border=\"1\" class=\"dataframe\">\n",
       "  <thead>\n",
       "    <tr style=\"text-align: right;\">\n",
       "      <th></th>\n",
       "      <th>Employee_ID</th>\n",
       "      <th>Emp_Name</th>\n",
       "      <th>Profession</th>\n",
       "    </tr>\n",
       "  </thead>\n",
       "  <tbody>\n",
       "    <tr>\n",
       "      <th>0</th>\n",
       "      <td>1</td>\n",
       "      <td>ABC</td>\n",
       "      <td>Null</td>\n",
       "    </tr>\n",
       "    <tr>\n",
       "      <th>1</th>\n",
       "      <td>2</td>\n",
       "      <td>XYZ</td>\n",
       "      <td>Tester</td>\n",
       "    </tr>\n",
       "    <tr>\n",
       "      <th>2</th>\n",
       "      <td>3</td>\n",
       "      <td>Vamshi</td>\n",
       "      <td>ML Developer</td>\n",
       "    </tr>\n",
       "  </tbody>\n",
       "</table>\n",
       "</div>"
      ],
      "text/plain": [
       "   Employee_ID Emp_Name    Profession\n",
       "0            1      ABC          Null\n",
       "1            2      XYZ        Tester\n",
       "2            3   Vamshi  ML Developer"
      ]
     },
     "execution_count": 3,
     "metadata": {},
     "output_type": "execute_result"
    }
   ],
   "source": [
    "import pandas as pd\n",
    "employee=pd.DataFrame(Employee1)\n",
    "employee"
   ]
  },
  {
   "cell_type": "code",
   "execution_count": 13,
   "metadata": {},
   "outputs": [
    {
     "name": "stdout",
     "output_type": "stream",
     "text": [
      "['ABC', 'XYZ', 'Vamshi']\n",
      "{'Employee_ID': [1, 2, 3], 'Emp_Name': ['ABC', 'XYZ', 'Vamshi'], 'Profession': ['Developer', 'Tester', 'ML Developer'], 'Location': ['Delhi', 'Hyd', 'Bangalore']}\n",
      "['ABC', 'XYZ', 'Vamshi']\n",
      "{'Employee_ID': [1, 2, 3], 'Profession': ['Developer', 'Tester', 'ML Developer'], 'Location': ['Delhi', 'Hyd', 'Bangalore']}\n"
     ]
    }
   ],
   "source": [
    "print(Employee1.get('Emp_Name'))\n",
    "print(Employee1)\n",
    "#The difference between get and pop is that pop also \n",
    "#removes the corresponding item from the dictionary:\n",
    "\n",
    "print(Employee1.pop('Emp_Name'))\n",
    "print(Employee1)\n"
   ]
  },
  {
   "cell_type": "markdown",
   "metadata": {},
   "source": [
    "# Updation\n",
    "\n",
    "The item i.e., key-value pair can be updated. Updating means new item can be added. The values can be modified."
   ]
  },
  {
   "cell_type": "code",
   "execution_count": 7,
   "metadata": {},
   "outputs": [
    {
     "name": "stdout",
     "output_type": "stream",
     "text": [
      "{'Employee_ID': 1, 'Emp_Name': 'ABC', 'Profession': 'Developer'}\n",
      "{'Employee_ID': 1, 'Emp_Name': 'Sam', 'Profession': 'Developer'}\n"
     ]
    }
   ],
   "source": [
    "Employee1 = {'Employee_ID':1,'Emp_Name':\"ABC\",\n",
    "             'Profession':\"Developer\"}\n",
    "print(Employee1)\n",
    "Employee1['Emp_Name'] = \"Sam\"\n",
    "print(Employee1)"
   ]
  },
  {
   "cell_type": "code",
   "execution_count": 8,
   "metadata": {},
   "outputs": [
    {
     "name": "stdout",
     "output_type": "stream",
     "text": [
      "[2, 4, 89, 6, 67]\n"
     ]
    }
   ],
   "source": [
    "list=[2,4,5,6,67]\n",
    "list[2]=89\n",
    "print(list)"
   ]
  },
  {
   "cell_type": "markdown",
   "metadata": {},
   "source": [
    "# Adding new item in dictionary\n",
    "\n",
    "We can add new item in the existing dictionary"
   ]
  },
  {
   "cell_type": "code",
   "execution_count": 15,
   "metadata": {},
   "outputs": [
    {
     "name": "stdout",
     "output_type": "stream",
     "text": [
      "{'Employee_ID': [234, 345], 'Emp_Name': ['ABC', 'XYZ', 'Prudhvi'], 'Profession': ['Null', 'Tester', 'ML Developer'], 'Location': ['Delhi', 'Hyd', 'Bangalore']}\n"
     ]
    }
   ],
   "source": [
    "Employee1 = {'Employee_ID':[234,345],'Emp_Name':[\"ABC\",\"XYZ\",\"Prudhvi\"],\n",
    "             'Profession':[\"Null\",\"Tester\",\"ML Developer\"]}\n",
    "Employee1['Location'] = [\"Delhi\",\"Hyd\",\"Bangalore\"]\n",
    "\n",
    "print(Employee1)"
   ]
  },
  {
   "cell_type": "code",
   "execution_count": 16,
   "metadata": {},
   "outputs": [
    {
     "data": {
      "text/plain": [
       "list"
      ]
     },
     "execution_count": 16,
     "metadata": {},
     "output_type": "execute_result"
    }
   ],
   "source": [
    "a=Employee1['Employee_ID']\n",
    "type(a)"
   ]
  },
  {
   "cell_type": "code",
   "execution_count": 17,
   "metadata": {},
   "outputs": [
    {
     "name": "stdout",
     "output_type": "stream",
     "text": [
      "{'Employee_ID': [234, 345], 'Emp_Name': ['ABC', 'XYZ', 'Prudhvi'], 'Profession': ['Null', 'Tester', 'ML Developer'], 'Location': ('Chennai',)}\n"
     ]
    }
   ],
   "source": [
    "Employee1['Location']=('Chennai',)\n",
    "print(Employee1)"
   ]
  },
  {
   "cell_type": "markdown",
   "metadata": {},
   "source": [
    "# Deletion\n",
    "\n",
    "#del statement is used for performing deletion operation.\n",
    "\n",
    "#An item can be deleted from a dictionary using the key."
   ]
  },
  {
   "cell_type": "code",
   "execution_count": 18,
   "metadata": {},
   "outputs": [
    {
     "name": "stdout",
     "output_type": "stream",
     "text": [
      "{'Employee_ID': [234, 345], 'Emp_Name': ['ABC', 'XYZ', 'Prudhvi'], 'Profession': ['Null', 'Tester', 'ML Developer']}\n"
     ]
    }
   ],
   "source": [
    "del Employee1['Location']\n",
    "\n",
    "print(Employee1)"
   ]
  },
  {
   "cell_type": "code",
   "execution_count": 19,
   "metadata": {},
   "outputs": [
    {
     "name": "stdout",
     "output_type": "stream",
     "text": [
      "Temporary dictionary is : {'Employee_ID': 1, 'Emp_Name': 'ABC', 'Profession': 'Developer'}\n"
     ]
    },
    {
     "ename": "NameError",
     "evalue": "name 'temp' is not defined",
     "output_type": "error",
     "traceback": [
      "\u001b[1;31m---------------------------------------------------------------------------\u001b[0m",
      "\u001b[1;31mNameError\u001b[0m                                 Traceback (most recent call last)",
      "\u001b[1;32m<ipython-input-19-d0aede45f0ea>\u001b[0m in \u001b[0;36m<module>\u001b[1;34m\u001b[0m\n\u001b[0;32m      5\u001b[0m \u001b[1;33m\u001b[0m\u001b[0m\n\u001b[0;32m      6\u001b[0m \u001b[1;32mdel\u001b[0m \u001b[0mtemp\u001b[0m\u001b[1;33m\u001b[0m\u001b[1;33m\u001b[0m\u001b[0m\n\u001b[1;32m----> 7\u001b[1;33m \u001b[0mprint\u001b[0m\u001b[1;33m(\u001b[0m\u001b[1;34m\"Temporary dictionary is :\"\u001b[0m\u001b[1;33m,\u001b[0m\u001b[0mtemp\u001b[0m\u001b[1;33m)\u001b[0m\u001b[1;33m\u001b[0m\u001b[1;33m\u001b[0m\u001b[0m\n\u001b[0m",
      "\u001b[1;31mNameError\u001b[0m: name 'temp' is not defined"
     ]
    }
   ],
   "source": [
    "#The whole dictionary can also be deleted\n",
    "\n",
    "temp = {'Employee_ID':1,'Emp_Name':\"ABC\",'Profession':\"Developer\"}\n",
    "print(\"Temporary dictionary is :\",temp)\n",
    "\n",
    "del temp\n",
    "print(\"Temporary dictionary is :\",temp)\n"
   ]
  },
  {
   "cell_type": "markdown",
   "metadata": {},
   "source": [
    "# Functions and Methods\n",
    "\n",
    "#1) len() : Gives number of items in a dictionary.\n",
    "#2) str() : Gives the string representation of a string\n",
    "#3) keys() : Return all the keys element of a dictionary.\n",
    "#4) values() : Return all the values element of a dictionary.\n",
    "#5) items() : \tReturn all the items(key-value pair) of a dictionary.\n",
    "#6) update(dictionary2)) : It is used to add items of dictionary2 to first dictionary.\n",
    "#7) clear() : It is used to remove all items of a dictionary. It returns an empty dictionary.\n",
    "#8) copy(): It returns an ordered copy of the data.\n"
   ]
  },
  {
   "cell_type": "code",
   "execution_count": 20,
   "metadata": {},
   "outputs": [
    {
     "data": {
      "text/plain": [
       "3"
      ]
     },
     "execution_count": 20,
     "metadata": {},
     "output_type": "execute_result"
    }
   ],
   "source": [
    "#len(dictionary)\n",
    "\n",
    "len(Employee1)"
   ]
  },
  {
   "cell_type": "code",
   "execution_count": 21,
   "metadata": {},
   "outputs": [
    {
     "name": "stdout",
     "output_type": "stream",
     "text": [
      "{'Employee_ID': [234, 345], 'Emp_Name': ['ABC', 'XYZ', 'Prudhvi'], 'Profession': ['Null', 'Tester', 'ML Developer']}\n",
      "<class 'str'>\n"
     ]
    }
   ],
   "source": [
    "#str(dictionary)\n",
    "Employee1\n",
    "\n",
    "a = str(Employee1)\n",
    "print(a)\n",
    "print(type(a))"
   ]
  },
  {
   "cell_type": "code",
   "execution_count": 22,
   "metadata": {},
   "outputs": [
    {
     "data": {
      "text/plain": [
       "dict_keys(['Employee_ID', 'Emp_Name', 'Profession'])"
      ]
     },
     "execution_count": 22,
     "metadata": {},
     "output_type": "execute_result"
    }
   ],
   "source": [
    "#keys()\n",
    "\n",
    "Employee1.keys()"
   ]
  },
  {
   "cell_type": "code",
   "execution_count": 23,
   "metadata": {},
   "outputs": [
    {
     "name": "stdout",
     "output_type": "stream",
     "text": [
      "{'Employee_ID': [234, 345], 'Emp_Name': ['ABC', 'XYZ', 'Prudhvi'], 'Profession': ['Null', 'Tester', 'ML Developer']}\n"
     ]
    },
    {
     "data": {
      "text/plain": [
       "dict_values([[234, 345], ['ABC', 'XYZ', 'Prudhvi'], ['Null', 'Tester', 'ML Developer']])"
      ]
     },
     "execution_count": 23,
     "metadata": {},
     "output_type": "execute_result"
    }
   ],
   "source": [
    "#values()\n",
    "print(Employee1)\n",
    "Employee1.values()"
   ]
  },
  {
   "cell_type": "code",
   "execution_count": 24,
   "metadata": {},
   "outputs": [
    {
     "name": "stdout",
     "output_type": "stream",
     "text": [
      "{'Employee_ID': [234, 345], 'Emp_Name': ['ABC', 'XYZ', 'Prudhvi'], 'Profession': ['Null', 'Tester', 'ML Developer']}\n"
     ]
    },
    {
     "data": {
      "text/plain": [
       "dict_items"
      ]
     },
     "execution_count": 24,
     "metadata": {},
     "output_type": "execute_result"
    }
   ],
   "source": [
    "print(Employee1)\n",
    "T=Employee1.items()\n",
    "type(T)"
   ]
  },
  {
   "cell_type": "code",
   "execution_count": 14,
   "metadata": {},
   "outputs": [
    {
     "name": "stdout",
     "output_type": "stream",
     "text": [
      "{'Employee_ID': 1, 'Emp_Name': 'Sam', 'Profession': 'Developer'}\n",
      "{'Employee_ID': 1, 'Emp_Name': 'Sam', 'Profession': 'Developer', 'location': 'Mumbai'}\n"
     ]
    }
   ],
   "source": [
    "#update(dictionary)\n",
    "\n",
    "location1 = {'location': 'Mumbai'}\n",
    "\n",
    "print(Employee1)\n",
    "Employee1.update(location1)\n",
    "\n",
    "print(Employee1)"
   ]
  },
  {
   "cell_type": "code",
   "execution_count": 25,
   "metadata": {},
   "outputs": [
    {
     "name": "stdout",
     "output_type": "stream",
     "text": [
      "Dictionary : {'ID': 1, 'Name': 'ABC', 'Dept': 'IT'}\n",
      "Dictionary : {}\n"
     ]
    }
   ],
   "source": [
    "#Clear()\n",
    "\n",
    "temp = {'ID':1,'Name':\"ABC\",'Dept':'IT'}\n",
    "\n",
    "print(\"Dictionary :\", temp)\n",
    "\n",
    "temp.clear()\n",
    "\n",
    "print(\"Dictionary :\", temp)\n",
    "\n"
   ]
  },
  {
   "cell_type": "code",
   "execution_count": 2,
   "metadata": {},
   "outputs": [
    {
     "name": "stdout",
     "output_type": "stream",
     "text": [
      "{'ID': 1, 'Name': 'ABC', 'Dept': 'IT'}\n",
      "{}\n",
      "{}\n"
     ]
    }
   ],
   "source": [
    "#copy\n",
    "Employee1 = {'ID':1,'Name':\"ABC\",'Dept':'IT'}\n",
    "Employee2 = Employee1\n",
    "Emp = Employee1.copy()\n",
    "\n",
    "Employee1.clear()\n",
    "#Employee2.clear()\n",
    "print(Emp)\n",
    "print(Employee1)\n",
    "print(Employee2)"
   ]
  },
  {
   "cell_type": "code",
   "execution_count": null,
   "metadata": {
    "collapsed": true
   },
   "outputs": [],
   "source": []
  }
 ],
 "metadata": {
  "kernelspec": {
   "display_name": "Python 3",
   "language": "python",
   "name": "python3"
  },
  "language_info": {
   "codemirror_mode": {
    "name": "ipython",
    "version": 3
   },
   "file_extension": ".py",
   "mimetype": "text/x-python",
   "name": "python",
   "nbconvert_exporter": "python",
   "pygments_lexer": "ipython3",
   "version": "3.7.4"
  }
 },
 "nbformat": 4,
 "nbformat_minor": 2
}
