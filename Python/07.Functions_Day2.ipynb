{
 "cells": [
  {
   "cell_type": "markdown",
   "metadata": {},
   "source": [
    "#### Python Session                       \n",
    "#### Date:  10/12/2019\n",
    "#### Author: Prudhvi\n",
    "\n",
    "##### Description: This session will cover:\n",
    "                     Working with Functions\n",
    "                     \n",
    "##############################################################################"
   ]
  },
  {
   "cell_type": "markdown",
   "metadata": {},
   "source": [
    "# Functions\n",
    "\n",
    "Functions are convenient way to devide your code into useful blocks, allowing us to order our code, make it more readable, reuse it and save more time.\n",
    "\n",
    "### How to define a Function\n",
    "\n",
    "#1) Function blocks begin with the keyword def followed by the function name and parentheses ( ( ) ).\n",
    "#2) Any input parameters or arguments should be placed within these parentheses. You can also define parameters inside these parentheses\n",
    "#3) Use return statement to return any value back to the calling point \n",
    "\n"
   ]
  },
  {
   "cell_type": "code",
   "execution_count": 1,
   "metadata": {},
   "outputs": [],
   "source": [
    "def my_function():\n",
    "    print(\"hello from my function\")"
   ]
  },
  {
   "cell_type": "code",
   "execution_count": 2,
   "metadata": {},
   "outputs": [
    {
     "name": "stdout",
     "output_type": "stream",
     "text": [
      "hello from my function\n"
     ]
    }
   ],
   "source": [
    "#calling function\n",
    "\n",
    "my_function()"
   ]
  },
  {
   "cell_type": "code",
   "execution_count": 9,
   "metadata": {},
   "outputs": [],
   "source": [
    "##Passing a parameter to a function\n",
    "\n",
    "def My_Fun_sum(a,b):\n",
    "    x = a + b\n",
    "    #print(x)\n",
    "    return x"
   ]
  },
  {
   "cell_type": "code",
   "execution_count": 10,
   "metadata": {},
   "outputs": [
    {
     "data": {
      "text/plain": [
       "5"
      ]
     },
     "execution_count": 10,
     "metadata": {},
     "output_type": "execute_result"
    }
   ],
   "source": [
    "My_Fun_sum(2,3)"
   ]
  },
  {
   "cell_type": "code",
   "execution_count": 11,
   "metadata": {},
   "outputs": [
    {
     "name": "stdout",
     "output_type": "stream",
     "text": [
      "5\n"
     ]
    }
   ],
   "source": [
    "return_value=My_Fun_sum(2,3)\n",
    "print(return_value)"
   ]
  },
  {
   "cell_type": "code",
   "execution_count": 14,
   "metadata": {},
   "outputs": [
    {
     "name": "stdout",
     "output_type": "stream",
     "text": [
      "10\n",
      "Value returned by function is : 10\n",
      "14\n",
      "Value returned by function is : 14\n"
     ]
    }
   ],
   "source": [
    "z = My_Fun_sum(3,7)\n",
    "print('Value returned by function is :',z)\n",
    "#print(x)\n",
    "\n",
    "z = My_Fun_sum(3,11)\n",
    "print('Value returned by function is :',z)"
   ]
  },
  {
   "cell_type": "markdown",
   "metadata": {},
   "source": [
    "Pass by reference vs value\n",
    "\n",
    "All parameters (arguments) in the Python language are passed by reference. It means if you change what a parameter refers to within a function, the change also reflects back in the calling function."
   ]
  },
  {
   "cell_type": "code",
   "execution_count": 8,
   "metadata": {},
   "outputs": [],
   "source": [
    "def My_Fun_sum(a,b):\n",
    "    a = 5;b = 5\n",
    "    x = a + b\n",
    "    return x"
   ]
  },
  {
   "cell_type": "code",
   "execution_count": 9,
   "metadata": {},
   "outputs": [
    {
     "name": "stdout",
     "output_type": "stream",
     "text": [
      "10\n"
     ]
    }
   ],
   "source": [
    "z = My_Fun_sum(3,4)\n",
    "print(z)"
   ]
  },
  {
   "cell_type": "markdown",
   "metadata": {},
   "source": [
    "# Function Arguments\n",
    "\n",
    "You can call a function by using the following types of formal arguments:\n",
    "\n",
    "    Required arguments\n",
    "\n",
    "    Optional/Default arguments\n",
    "\n",
    "\n",
    "Required arguments\n",
    "\n",
    "Required arguments are the arguments passed to a function in correct positional order. Here, the number of arguments in the function call should match exactly with the function definition."
   ]
  },
  {
   "cell_type": "code",
   "execution_count": 9,
   "metadata": {},
   "outputs": [
    {
     "ename": "TypeError",
     "evalue": "My_Fun_sum() missing 1 required positional argument: 'b'",
     "output_type": "error",
     "traceback": [
      "\u001b[1;31m---------------------------------------------------------------------------\u001b[0m",
      "\u001b[1;31mTypeError\u001b[0m                                 Traceback (most recent call last)",
      "\u001b[1;32m<ipython-input-9-d2a3bd5a28ea>\u001b[0m in \u001b[0;36m<module>\u001b[1;34m\u001b[0m\n\u001b[1;32m----> 1\u001b[1;33m \u001b[0mz\u001b[0m \u001b[1;33m=\u001b[0m \u001b[0mMy_Fun_sum\u001b[0m\u001b[1;33m(\u001b[0m\u001b[1;36m3\u001b[0m\u001b[1;33m)\u001b[0m\u001b[1;33m\u001b[0m\u001b[1;33m\u001b[0m\u001b[0m\n\u001b[0m",
      "\u001b[1;31mTypeError\u001b[0m: My_Fun_sum() missing 1 required positional argument: 'b'"
     ]
    }
   ],
   "source": [
    "z = My_Fun_sum(3)"
   ]
  },
  {
   "cell_type": "markdown",
   "metadata": {},
   "source": [
    "A default argument is an argument that assumes a default value if a value is not provided in the function call for that argument."
   ]
  },
  {
   "cell_type": "code",
   "execution_count": 23,
   "metadata": {},
   "outputs": [],
   "source": [
    "def My_Fun_sum(a=0,b=0,c=0):\n",
    "    x = a + b + c\n",
    "    return x"
   ]
  },
  {
   "cell_type": "code",
   "execution_count": 24,
   "metadata": {},
   "outputs": [
    {
     "name": "stdout",
     "output_type": "stream",
     "text": [
      "0\n"
     ]
    }
   ],
   "source": [
    "print(My_Fun_sum())"
   ]
  },
  {
   "cell_type": "markdown",
   "metadata": {},
   "source": [
    "Scope of a variable:"
   ]
  },
  {
   "cell_type": "code",
   "execution_count": 22,
   "metadata": {
    "scrolled": true
   },
   "outputs": [
    {
     "name": "stdout",
     "output_type": "stream",
     "text": [
      "Value inside function: 20\n",
      "Value inside function: 200\n",
      "Value outside function: 20\n"
     ]
    },
    {
     "ename": "NameError",
     "evalue": "name 'y' is not defined",
     "output_type": "error",
     "traceback": [
      "\u001b[1;31m---------------------------------------------------------------------------\u001b[0m",
      "\u001b[1;31mNameError\u001b[0m                                 Traceback (most recent call last)",
      "\u001b[1;32m<ipython-input-22-0492061f3048>\u001b[0m in \u001b[0;36m<module>\u001b[1;34m\u001b[0m\n\u001b[0;32m     10\u001b[0m \u001b[1;33m\u001b[0m\u001b[0m\n\u001b[0;32m     11\u001b[0m \u001b[0mprint\u001b[0m\u001b[1;33m(\u001b[0m\u001b[1;34m\"Value outside function:\"\u001b[0m\u001b[1;33m,\u001b[0m\u001b[0mx\u001b[0m\u001b[1;33m)\u001b[0m\u001b[1;33m\u001b[0m\u001b[1;33m\u001b[0m\u001b[0m\n\u001b[1;32m---> 12\u001b[1;33m \u001b[0mprint\u001b[0m\u001b[1;33m(\u001b[0m\u001b[1;34m\"Value outside funciton\"\u001b[0m\u001b[1;33m,\u001b[0m\u001b[0my\u001b[0m\u001b[1;33m)\u001b[0m\u001b[1;33m\u001b[0m\u001b[1;33m\u001b[0m\u001b[0m\n\u001b[0m",
      "\u001b[1;31mNameError\u001b[0m: name 'y' is not defined"
     ]
    }
   ],
   "source": [
    "def my_func():\n",
    "    x = 10\n",
    "    y=200\n",
    "    print(\"Value inside function:\",x)\n",
    "    print(\"Value inside function:\",y)\n",
    "\n",
    "x = 20\n",
    "\n",
    "my_func()\n",
    "\n",
    "print(\"Value outside function:\",x)\n",
    "print(\"Value outside funciton\",y)"
   ]
  },
  {
   "cell_type": "markdown",
   "metadata": {},
   "source": [
    "# Assignment 1\n",
    "\n",
    "Write a function which will return an absolute value\n",
    "\n",
    "For example if we pass 2 as an argument it should return 2\n",
    "When we pass -2 as an argument it should return 2"
   ]
  },
  {
   "cell_type": "code",
   "execution_count": 20,
   "metadata": {},
   "outputs": [
    {
     "data": {
      "text/plain": [
       "2.8"
      ]
     },
     "execution_count": 20,
     "metadata": {},
     "output_type": "execute_result"
    }
   ],
   "source": [
    "abs(-2.8)"
   ]
  },
  {
   "cell_type": "code",
   "execution_count": 21,
   "metadata": {},
   "outputs": [],
   "source": [
    "def absolute_value(num):\n",
    "    if num >= 0:\n",
    "        return num\n",
    "    else:\n",
    "        return abs(num)\n",
    "\n"
   ]
  },
  {
   "cell_type": "code",
   "execution_count": 23,
   "metadata": {
    "scrolled": true
   },
   "outputs": [
    {
     "name": "stdout",
     "output_type": "stream",
     "text": [
      "The value returned by the function is  3\n",
      "The value returned by the function is  3\n"
     ]
    }
   ],
   "source": [
    "z=absolute_value(3)\n",
    "print('The value returned by the function is ', z)\n",
    "z=absolute_value(-3)\n",
    "print('The value returned by the function is ', z)"
   ]
  },
  {
   "cell_type": "code",
   "execution_count": 1,
   "metadata": {},
   "outputs": [
    {
     "data": {
      "text/plain": [
       "2"
      ]
     },
     "execution_count": 1,
     "metadata": {},
     "output_type": "execute_result"
    }
   ],
   "source": [
    "abs(-2)"
   ]
  },
  {
   "cell_type": "markdown",
   "metadata": {},
   "source": [
    "# Assignment 2:\n",
    "\n",
    "\n",
    "Write a function to build a calculator:\n",
    "\n",
    "Take an input from user what operation he want to do:\n",
    "\n",
    "1. add\n",
    "2. sub\n",
    "3.mul\n",
    "4.div\n",
    "\n",
    "Take the two integet numbers as input and perform the selected operation\n",
    "If user selects any other number (other than 1,2,3,4) show \"Invalid input\"\n",
    "\n",
    "Tip: Use input() to take input from console"
   ]
  },
  {
   "cell_type": "code",
   "execution_count": 25,
   "metadata": {
    "scrolled": false
   },
   "outputs": [
    {
     "name": "stdout",
     "output_type": "stream",
     "text": [
      "Enter the Number: 8\n",
      "You Entered :  8\n"
     ]
    }
   ],
   "source": [
    "x = input(\"Enter the Number: \")\n",
    "print(\"You Entered : \", x)"
   ]
  },
  {
   "cell_type": "code",
   "execution_count": 26,
   "metadata": {
    "scrolled": true
   },
   "outputs": [
    {
     "name": "stdout",
     "output_type": "stream",
     "text": [
      "Select operation.\n",
      "1.Add\n",
      "2.Sub\n",
      "3.Mul\n",
      "4.Div\n",
      "Enter choice(1/2/3/4):2\n",
      "Enter first number: 80\n",
      "Enter second number: 90\n",
      "80 - 90 = -10\n"
     ]
    }
   ],
   "source": [
    "#add\n",
    "def add(x, y):\n",
    "    return x+y\n",
    "\n",
    "# sub\n",
    "def subtract(x, y):\n",
    "    return x - y\n",
    "\n",
    "# mul\n",
    "def multiply(x, y):\n",
    "    return x * y\n",
    "\n",
    "# div\n",
    "def divide(x, y):\n",
    "    return x / y\n",
    "\n",
    "print(\"Select operation.\")\n",
    "print(\"1.Add\")\n",
    "print(\"2.Sub\")\n",
    "print(\"3.Mul\")\n",
    "print(\"4.Div\")\n",
    "\n",
    "\n",
    "choice = input(\"Enter choice(1/2/3/4):\")\n",
    "\n",
    "num1 = int(input(\"Enter first number: \"))\n",
    "num2 = int(input(\"Enter second number: \"))\n",
    "\n",
    "if choice == '1':\n",
    "    print(num1,\"+\",num2,\"=\", add(num1,num2))\n",
    "\n",
    "elif choice == '2':\n",
    "    print(num1,\"-\",num2,\"=\", subtract(num1,num2))\n",
    "\n",
    "elif choice == '3':\n",
    "    print(num1,\"*\",num2,\"=\", multiply(num1,num2))\n",
    "\n",
    "elif choice == '4':\n",
    "    print(num1,\"/\",num2,\"=\", divide(num1,num2))\n",
    "else:\n",
    "    print(\"Invalid input\")"
   ]
  },
  {
   "cell_type": "code",
   "execution_count": 27,
   "metadata": {},
   "outputs": [
    {
     "name": "stdout",
     "output_type": "stream",
     "text": [
      "The result of the calculator function is  5\n",
      "The result of the calculator function is  This is not a valid operation\n"
     ]
    }
   ],
   "source": [
    "def calculator(choice,num1,num2):\n",
    "    if choice=='Add':\n",
    "        return num1+num2\n",
    "    elif choice=='Subtract':\n",
    "        return num1-num2\n",
    "    elif choice=='Divide':\n",
    "        return num1/num2\n",
    "    elif choice=='Multiply':\n",
    "        return num1*num2\n",
    "    else:\n",
    "        return 'This is not a valid operation'\n",
    "    \n",
    "result=calculator('Add',2,3)\n",
    "print('The result of the calculator function is ', result)\n",
    "print('The result of the calculator function is ', calculator('Prudhvi',2,3))"
   ]
  },
  {
   "cell_type": "code",
   "execution_count": 26,
   "metadata": {},
   "outputs": [],
   "source": [
    "def calculator(choice,num1,num2):\n",
    "    def add(x, y):\n",
    "        return x+y\n",
    "    # sub\n",
    "    def subtract(x, y):\n",
    "        return x - y\n",
    "    # mul\n",
    "    def multiply(x, y):\n",
    "        return x * y\n",
    "    # div\n",
    "    def divide(x, y):\n",
    "        return x / y\n",
    "    \n",
    "    if choice=='Add':\n",
    "        return add(num1,num2)\n",
    "    elif choice=='Subtract':\n",
    "        return subtract(num1,num2)\n",
    "    elif choice=='Divide':\n",
    "        return divide(num1,num2)\n",
    "    elif choice=='Multiply':\n",
    "        return multiply(num1,num2)\n",
    "    else:\n",
    "        return 'This is not a valid operation'"
   ]
  },
  {
   "cell_type": "code",
   "execution_count": 27,
   "metadata": {},
   "outputs": [
    {
     "data": {
      "text/plain": [
       "5"
      ]
     },
     "execution_count": 27,
     "metadata": {},
     "output_type": "execute_result"
    }
   ],
   "source": [
    "calculator('Add',2,3)"
   ]
  },
  {
   "cell_type": "markdown",
   "metadata": {},
   "source": []
  }
 ],
 "metadata": {
  "kernelspec": {
   "display_name": "Python 3",
   "language": "python",
   "name": "python3"
  },
  "language_info": {
   "codemirror_mode": {
    "name": "ipython",
    "version": 3
   },
   "file_extension": ".py",
   "mimetype": "text/x-python",
   "name": "python",
   "nbconvert_exporter": "python",
   "pygments_lexer": "ipython3",
   "version": "3.7.4"
  }
 },
 "nbformat": 4,
 "nbformat_minor": 2
}
