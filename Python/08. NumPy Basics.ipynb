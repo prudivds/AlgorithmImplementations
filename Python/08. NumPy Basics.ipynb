{
 "cells": [
  {
   "cell_type": "code",
   "execution_count": null,
   "metadata": {},
   "outputs": [],
   "source": [
    "#### Python Session                       \n",
    "#### Date:  10/12/2019\n",
    "#### Author: Prudhvi\n",
    "\n",
    "##### Description: This session will cover:\n",
    "                     Working with Numpy\n",
    "                     \n",
    "##############################################################################"
   ]
  },
  {
   "cell_type": "markdown",
   "metadata": {},
   "source": [
    "# Array Computations:\n",
    "\n",
    "NumPy, short for Numerical Python, is the fundamental package required for high performance scientific computing and data analysis. It is the foundation on which nearly all of the higher-level tools are built.\n",
    "#### Key highlight: \n",
    "    1. ndarray, a fast and space-efficient multidimensional array providing vectorized arithmetic operations and  sophisticated broadcasting capabilities.\n",
    "    2. Standard mathematical functions for fast operations on entire arrays of data without having to write loops\n",
    "    3. Tools for reading / writing array data to disk and working with memory-mapped files\n",
    "    4. Linear algebra, random number generation, and Fourier transform capabilities\n",
    "    5. Tools for integrating code written in C, C++, and Fortran\n",
    "    \n",
    "It is very easy to pass data to external libraries written in a low-level language and also for external libraries to return data to Python as NumPy arrays.\n",
    "\n",
    "While NumPy by itself does not provide very much high-level data analytical functionality, having an understanding of NumPy arrays and array-oriented computing will help you use tools like pandas much more effectively.\n",
    "\n",
    "For most data analysis applications, the main areas of functionality\n",
    "    1. Fast vectorized array operations for data munging and cleaning, subsetting and filtering, transformation, and any other kinds of computations\n",
    "    2. Common array algorithms like sorting, unique, and set operations\n",
    "    3. Efficient descriptive statistics and aggregating/summarizing data\n",
    "    4. Data alignment and relational data manipulations for merging and joining together heterogeneous data sets\n",
    "    5. Expressing conditional logic as array expressions instead of loops with if-elifelse branches.\n",
    "    6. Group-wise data manipulations (aggregation, transformation, function application)."
   ]
  },
  {
   "cell_type": "code",
   "execution_count": 2,
   "metadata": {},
   "outputs": [
    {
     "name": "stdout",
     "output_type": "stream",
     "text": [
      "My First Array: [6.  7.5 8.  0.  1. ]\n",
      "My First Multidimensional Array:\n",
      " [[1 2 3 4]\n",
      " [5 6 7 8]]\n",
      "My First Multidimensional Array:\n",
      " [[1 2 3]\n",
      " [5 6 7]\n",
      " [5 6 7]]\n",
      "2\n"
     ]
    }
   ],
   "source": [
    "# The NumPy ndarray: A Multidimensional Array Object\n",
    "\n",
    "#import package\n",
    "import numpy as np\n",
    "\n",
    "#Creating ndarray : \n",
    "#The easiest way to create an array is to use the array function. This accepts any sequence- like object \n",
    "#(including other arrays) and produces a new NumPy array containingthe passed data\n",
    "data1 = [6, 7.5, 8, 0, 1]\n",
    "arr1 = np.array(data1)\n",
    "print(\"My First Array:\", arr1)\n",
    "\n",
    "##Nested Sequence, like a list of equal length list, will be converted to multidimensional array\n",
    "data2 = [[1,2,3,4],[5,6,7,8]]\n",
    "arr2 = np.array(data2)\n",
    "print(\"My First Multidimensional Array:\\n\", arr2)\n",
    "\n",
    "data3 = [[1,2,3],[5,6,7],[5,6,7]]\n",
    "\n",
    "arr3 = np.array(data3)\n",
    "print(\"My First Multidimensional Array:\\n\", arr3)\n",
    "print(arr3.ndim)"
   ]
  },
  {
   "cell_type": "code",
   "execution_count": 2,
   "metadata": {},
   "outputs": [
    {
     "name": "stdout",
     "output_type": "stream",
     "text": [
      "2 D Array: \n",
      " [[ 0.9526 -0.246  -0.8856]\n",
      " [ 0.5639  0.2379  0.9104]]\n",
      "Shape of an Array :  (2, 3)\n",
      "Data TYpe of an Array : float64\n",
      "Data TYpe of an Array : 2\n"
     ]
    }
   ],
   "source": [
    "data = np.array([[ 0.9526, -0.246 , -0.8856],\n",
    "[ 0.5639, 0.2379, 0.9104]])\n",
    "\n",
    "print(\"2 D Array: \\n\",data)\n",
    "\n",
    "# Every array has shape - a tuple - indicating the size of ech dimension\n",
    "print(\"Shape of an Array : \",data.shape)\n",
    "\n",
    "\n",
    "#Every array has dtype, an object describing the data type of an array\n",
    "#Unless explicitly specified, np.array tries to infer a good data type for the array that it creates.\n",
    "print(\"Data TYpe of an Array :\",data.dtype)\n",
    "\n",
    "#Every array has ndim, an object describing the dimension of an array\n",
    "print(\"Data TYpe of an Array :\",data.ndim)"
   ]
  },
  {
   "cell_type": "code",
   "execution_count": 3,
   "metadata": {},
   "outputs": [
    {
     "name": "stdout",
     "output_type": "stream",
     "text": [
      "1D zero Matrix: \n",
      " [0. 0. 0. 0. 0. 0. 0. 0. 0. 0.]\n",
      "****************************************************************************************************\n",
      "2D zero Matrix: \n",
      " [[0. 0. 0. 0. 0. 0.]\n",
      " [0. 0. 0. 0. 0. 0.]\n",
      " [0. 0. 0. 0. 0. 0.]]\n",
      "****************************************************************************************************\n",
      "2D ones Matrix: \n",
      " [[1. 1. 1.]\n",
      " [1. 1. 1.]]\n",
      "****************************************************************************************************\n",
      "3D empty Matrix: \n",
      " [[[6.23042070e-307 4.67296746e-307]\n",
      "  [1.69121096e-306 1.86921686e-306]\n",
      "  [1.89146896e-307 1.37961302e-306]]\n",
      "\n",
      " [[1.05699242e-307 8.01097889e-307]\n",
      "  [1.78020169e-306 7.56601165e-307]\n",
      "  [1.02359984e-306 3.72364481e-317]]]\n",
      "****************************************************************************************************\n",
      "3\n",
      "****************************************************************************************************\n",
      "[ 0  1  2  3  4  5  6  7  8  9 10 11 12 13 14]\n"
     ]
    }
   ],
   "source": [
    "#In addition to np.array, there are a number of other functions for creating new arrays.\n",
    "\n",
    "#zeros(): Create array of zeros\n",
    "print(\"1D zero Matrix: \\n\",np.zeros(10))\n",
    "\n",
    "print('*'*100)\n",
    "\n",
    "print(\"2D zero Matrix: \\n\",np.zeros((3, 6)))\n",
    "print('*'*100)\n",
    "\n",
    "#ones(): Create array of ones\n",
    "print(\"2D ones Matrix: \\n\",np.ones((2,3)))\n",
    "print('*'*100)\n",
    "\n",
    "#empty creates an array withouf initializing it's values to any particular values.\n",
    "\n",
    "print(\"3D empty Matrix: \\n\",np.empty((2, 3, 2)))\n",
    "print('*'*100)\n",
    "#It’s not safe to assume that np.empty will return an array of all zeros. \n",
    "#In many cases, it will return uninitialized garbage values.\n",
    "print(np.empty((2, 3, 2)).ndim)\n",
    "print('*'*100)\n",
    "\n",
    "\n",
    "\n",
    "#np.arange(): arange is an array-valued version of the built-in Python range function\n",
    "print(np.arange(15))"
   ]
  },
  {
   "cell_type": "code",
   "execution_count": 2,
   "metadata": {},
   "outputs": [
    {
     "name": "stdout",
     "output_type": "stream",
     "text": [
      "3D empty Matrix: \n",
      " [[[  6.23042070e-307   4.67296746e-307]\n",
      "  [  1.69121096e-306   6.23058707e-307]\n",
      "  [  8.45593934e-307   7.56593017e-307]]\n",
      "\n",
      " [[  1.11261027e-306   1.11261502e-306]\n",
      "  [  1.42410839e-306   7.56597770e-307]\n",
      "  [  6.23059726e-307   1.42419530e-306]]]\n",
      "3D empty Matrix: \n",
      " [[[  6.23042070e-307   4.67296746e-307   1.69121096e-306]\n",
      "  [  6.23058707e-307   8.45593934e-307   7.56593017e-307]]\n",
      "\n",
      " [[  1.11261027e-306   1.11261502e-306   1.42410839e-306]\n",
      "  [  7.56597770e-307   6.23059726e-307   1.42419530e-306]]\n",
      "\n",
      " [[  7.56602523e-307   1.29061821e-306   1.42417629e-306]\n",
      "  [  8.45593934e-307   6.89805151e-307   1.11260144e-306]]\n",
      "\n",
      " [[  6.89812281e-307   1.42418172e-306   1.37961641e-306]\n",
      "  [  1.22383391e-307   8.45610231e-307   2.10081501e-312]]]\n"
     ]
    }
   ],
   "source": [
    "print(\"3D empty Matrix: \\n\",np.empty((2, 3, 2)))\n",
    "print(\"3D empty Matrix: \\n\",np.empty((4, 2, 3)))"
   ]
  },
  {
   "cell_type": "code",
   "execution_count": 4,
   "metadata": {},
   "outputs": [
    {
     "data": {
      "text/plain": [
       "array([0.        , 0.44444444, 0.88888889, 1.33333333, 1.77777778,\n",
       "       2.22222222, 2.66666667, 3.11111111, 3.55555556, 4.        ])"
      ]
     },
     "execution_count": 4,
     "metadata": {},
     "output_type": "execute_result"
    }
   ],
   "source": [
    "# Create an array of five values evenly spaced between 0 and 1\n",
    "np.linspace(0, 4, 10)"
   ]
  },
  {
   "cell_type": "code",
   "execution_count": 13,
   "metadata": {},
   "outputs": [
    {
     "data": {
      "text/plain": [
       "array([[ 3.14,  3.14,  3.14,  3.14,  3.14],\n",
       "       [ 3.14,  3.14,  3.14,  3.14,  3.14],\n",
       "       [ 3.14,  3.14,  3.14,  3.14,  3.14]])"
      ]
     },
     "execution_count": 13,
     "metadata": {},
     "output_type": "execute_result"
    }
   ],
   "source": [
    "# Create a 3x5 array filled with 3.14\n",
    "np.full((3, 5), 3.14)"
   ]
  },
  {
   "cell_type": "code",
   "execution_count": 14,
   "metadata": {},
   "outputs": [
    {
     "data": {
      "text/plain": [
       "array([[ 1.,  0.,  0.],\n",
       "       [ 0.,  1.,  0.],\n",
       "       [ 0.,  0.,  1.]])"
      ]
     },
     "execution_count": 14,
     "metadata": {},
     "output_type": "execute_result"
    }
   ],
   "source": [
    "# Create a 3x3 identity matrix\n",
    "np.eye(3)"
   ]
  },
  {
   "cell_type": "markdown",
   "metadata": {},
   "source": [
    "# NumPy Array Attributes\n",
    "\n",
    "Each array has attributes ndim (the number of dimensions), shape (the size of each dimension), and size (the total size of the array):"
   ]
  },
  {
   "cell_type": "code",
   "execution_count": 16,
   "metadata": {
    "scrolled": true
   },
   "outputs": [
    {
     "name": "stdout",
     "output_type": "stream",
     "text": [
      "[6 1 2 3 3 0]\n",
      "[[6 1 4 5]\n",
      " [9 2 6 0]\n",
      " [5 8 2 9]]\n",
      "[[[3 4 3 1 7]\n",
      "  [0 2 6 2 0]\n",
      "  [4 6 9 0 0]\n",
      "  [9 8 9 6 1]]\n",
      "\n",
      " [[8 4 0 4 1]\n",
      "  [5 5 3 4 5]\n",
      "  [5 0 6 6 3]\n",
      "  [2 4 3 9 6]]\n",
      "\n",
      " [[7 4 1 4 9]\n",
      "  [5 3 5 0 2]\n",
      "  [9 6 4 7 6]\n",
      "  [2 3 2 6 4]]]\n"
     ]
    }
   ],
   "source": [
    "import numpy as np\n",
    "np.random.seed(12)  # seed for reproducibility\n",
    "\n",
    "x1 = np.random.randint(10, size=6)  # One-dimensional array\n",
    "x2 = np.random.randint(10, size=(3, 4))  # Two-dimensional array\n",
    "x3 = np.random.randint(10, size=(3, 4, 5))  # Three-dimensional array\n",
    "print(x1)\n",
    "print(x2)\n",
    "print(x3)"
   ]
  },
  {
   "cell_type": "code",
   "execution_count": 3,
   "metadata": {},
   "outputs": [
    {
     "name": "stdout",
     "output_type": "stream",
     "text": [
      "x3 ndim:  3\n",
      "x3 shape: (3, 4, 5)\n",
      "x3 size:  60\n"
     ]
    }
   ],
   "source": [
    "print(\"x3 ndim: \", x3.ndim)\n",
    "print(\"x3 shape:\", x3.shape)\n",
    "print(\"x3 size: \", x3.size)\n"
   ]
  },
  {
   "cell_type": "markdown",
   "metadata": {},
   "source": [
    "Other attributes include itemsize, which lists the size (in bytes) of each array element, and nbytes, which lists the total size (in bytes) of the array:"
   ]
  },
  {
   "cell_type": "code",
   "execution_count": 8,
   "metadata": {},
   "outputs": [
    {
     "name": "stdout",
     "output_type": "stream",
     "text": [
      "itemsize: 4 bytes\n",
      "nbytes: 240 bytes\n"
     ]
    }
   ],
   "source": [
    "print(\"itemsize:\", x3.itemsize, \"bytes\")\n",
    "print(\"nbytes:\", x3.nbytes, \"bytes\")"
   ]
  },
  {
   "cell_type": "markdown",
   "metadata": {},
   "source": [
    "## Data Types:\n",
    "Dtypes are part of what make NumPy so powerful and flexible. In most cases they map directly onto an underlying \n",
    "machine representation, which makes it easy to read and write binary streams of data to disk and also to connect to code written in a low-level language like C or Fortran. The numerical dtypes are named the same way: a type name,\n",
    "like float or int, followed by a number indicating the number of bits per element. A standard double-precision floating point value takes up 8 bytes or 64 bits. Thus, this type is known in NumPy as float64."
   ]
  },
  {
   "cell_type": "code",
   "execution_count": 35,
   "metadata": {},
   "outputs": [
    {
     "name": "stdout",
     "output_type": "stream",
     "text": [
      "Data Type of arr1:\n",
      " float64\n",
      "Data Type of arr2:\n",
      " int32\n",
      "Original Datatype :  int32\n",
      "Data type After Type Casting :  float64\n",
      "Original Data TYpe :  float64\n",
      "Type Casted Data Type:\n",
      " [1 2 3 4 4]\n",
      "[  1.25  -9.6   42.  ]\n",
      "float64\n"
     ]
    }
   ],
   "source": [
    "## Datatype of ndarray\n",
    "#The data type or dtype is a special object containing the information the ndarray needs \n",
    "#to interpret a chunk of memory as a particular type of data:\n",
    "\n",
    "arr1 = np.array([1, 2, 3], dtype=np.float64)\n",
    "arr2 = np.array([1.5, 2.3, 3.2], dtype=np.int32)\n",
    "\n",
    "print(\"Data Type of arr1:\\n\",arr1.dtype)\n",
    "print(\"Data Type of arr2:\\n\",arr2.dtype)\n",
    "\n",
    "##You can explicitly convert of cast an array from one type to another using ndarray's as type method:\n",
    "\n",
    "arr = np.array([1,2,3,4,5])\n",
    "print(\"Original Datatype : \",arr.dtype)\n",
    "\n",
    "float_arr = arr.astype(np.float64)\n",
    "print(\"Data type After Type Casting : \",float_arr.dtype)\n",
    "\n",
    "##If you cast some floating point numbers to be of integer dtype, the decimal part will be truncated\n",
    "\n",
    "arr = np.array([1.2,2.1,3.4,4,4])\n",
    "print(\"Original Data TYpe : \",arr.dtype)\n",
    "\n",
    "arr_int = arr.astype(np.int32)\n",
    "print(\"Type Casted Data Type:\\n\",arr_int)\n",
    "\n",
    "\n",
    "##String array also you can convert to numeric form\n",
    "\n",
    "numeric_strings = np.array(['1.25', '-9.6', '42'], dtype=np.string_)\n",
    "print(numeric_strings.astype(np.float64))\n",
    "print(numeric_strings.astype(np.float64).dtype)"
   ]
  },
  {
   "cell_type": "code",
   "execution_count": 37,
   "metadata": {},
   "outputs": [
    {
     "ename": "ValueError",
     "evalue": "could not convert string to float: 'Hello'",
     "output_type": "error",
     "traceback": [
      "\u001b[1;31m---------------------------------------------------------------------------\u001b[0m",
      "\u001b[1;31mValueError\u001b[0m                                Traceback (most recent call last)",
      "\u001b[1;32m<ipython-input-37-0153a8503b07>\u001b[0m in \u001b[0;36m<module>\u001b[1;34m()\u001b[0m\n\u001b[0;32m      2\u001b[0m \u001b[1;33m\u001b[0m\u001b[0m\n\u001b[0;32m      3\u001b[0m \u001b[0mnumeric_strings\u001b[0m \u001b[1;33m=\u001b[0m \u001b[0mnp\u001b[0m\u001b[1;33m.\u001b[0m\u001b[0marray\u001b[0m\u001b[1;33m(\u001b[0m\u001b[1;33m[\u001b[0m\u001b[1;34m'Hello'\u001b[0m\u001b[1;33m,\u001b[0m \u001b[1;34m'-9.6'\u001b[0m\u001b[1;33m,\u001b[0m \u001b[1;34m'42'\u001b[0m\u001b[1;33m]\u001b[0m\u001b[1;33m,\u001b[0m \u001b[0mdtype\u001b[0m\u001b[1;33m=\u001b[0m\u001b[0mnp\u001b[0m\u001b[1;33m.\u001b[0m\u001b[0mstring_\u001b[0m\u001b[1;33m)\u001b[0m\u001b[1;33m\u001b[0m\u001b[0m\n\u001b[1;32m----> 4\u001b[1;33m \u001b[0mprint\u001b[0m\u001b[1;33m(\u001b[0m\u001b[0mnumeric_strings\u001b[0m\u001b[1;33m.\u001b[0m\u001b[0mastype\u001b[0m\u001b[1;33m(\u001b[0m\u001b[0mfloat\u001b[0m\u001b[1;33m)\u001b[0m\u001b[1;33m)\u001b[0m\u001b[1;33m\u001b[0m\u001b[0m\n\u001b[0m",
      "\u001b[1;31mValueError\u001b[0m: could not convert string to float: 'Hello'"
     ]
    }
   ],
   "source": [
    "##If casting were to fail for some reason, a TypeError will be raised\n",
    "\n",
    "numeric_strings = np.array(['Hello', '-9.6', '42'], dtype=np.string_)\n",
    "print(numeric_strings.astype(float))\n"
   ]
  },
  {
   "cell_type": "code",
   "execution_count": 8,
   "metadata": {},
   "outputs": [
    {
     "name": "stdout",
     "output_type": "stream",
     "text": [
      "[  1.25  -9.6   42.  ]\n",
      "float64\n",
      "float32\n",
      "float64\n"
     ]
    }
   ],
   "source": [
    "# NumPy is smart enough to alias the Python types to the equivalent dtypes\n",
    "import numpy as np\n",
    "numeric_strings = np.array(['1.25', '-9.6', '42'], dtype=np.string_)\n",
    "print(numeric_strings.astype(float))\n",
    "print(numeric_strings.astype(float).dtype)\n",
    "print(numeric_strings.astype('float32').dtype)\n",
    "print(numeric_strings.astype('float64').dtype)"
   ]
  },
  {
   "cell_type": "markdown",
   "metadata": {},
   "source": [
    "### Points to Remember:\n",
    "\n",
    "1. Calling astype always creates a new array (a copy of the data), even if the new dtype is the same as the old dtype.\n"
   ]
  },
  {
   "cell_type": "code",
   "execution_count": 3,
   "metadata": {},
   "outputs": [
    {
     "name": "stdout",
     "output_type": "stream",
     "text": [
      "[[ 1.  2.  3.]\n",
      " [ 4.  5.  6.]]\n",
      "#########Addition#########\n",
      "[[  2.   4.   6.]\n",
      " [  8.  10.  12.]]\n",
      "#########Subtraction#########\n",
      "[[ 0.  0.  0.]\n",
      " [ 0.  0.  0.]]\n",
      "#########Multiplicaton#########\n",
      "[[  1.   4.   9.]\n",
      " [ 16.  25.  36.]]\n",
      "#########Division#########\n",
      "[[ 1.  1.  1.]\n",
      " [ 1.  1.  1.]]\n"
     ]
    }
   ],
   "source": [
    "##Operations\n",
    "\n",
    "#Arrays are important because they enable you to express batch operations on data\n",
    "#without writing any for loops. This is usually called vectorization. Any arithmetic operations\n",
    "#between equal-size arrays applies the operation elementwise:\n",
    "\n",
    "arr = np.array([[1., 2., 3.], [4., 5., 6.]])\n",
    "print(arr)\n",
    "#Addition\n",
    "print(\"#########Addition#########\")\n",
    "arr1 = arr + arr\n",
    "print(arr1)\n",
    "\n",
    "#Subtraction\n",
    "print(\"#########Subtraction#########\")\n",
    "arr2 = arr - arr\n",
    "print(arr2)\n",
    "\n",
    "#Multiplication\n",
    "print(\"#########Multiplicaton#########\")\n",
    "arr3 = arr * arr\n",
    "print(arr3)\n",
    "\n",
    "#Division\n",
    "print(\"#########Division#########\")\n",
    "arr4 = arr / arr\n",
    "print(arr4)\n"
   ]
  },
  {
   "cell_type": "code",
   "execution_count": 54,
   "metadata": {},
   "outputs": [
    {
     "name": "stdout",
     "output_type": "stream",
     "text": [
      "Scalar Addition\n",
      "[[ 2.  3.  4.]\n",
      " [ 5.  6.  7.]]\n",
      "Scalar Subtraction\n",
      "[[ 0.  1.  2.]\n",
      " [ 3.  4.  5.]]\n",
      "Scalar Multiplication\n",
      "[[  2.   4.   6.]\n",
      " [  8.  10.  12.]]\n",
      "Scalar Division\n",
      "[[ 1.          0.5         0.33333333]\n",
      " [ 0.25        0.2         0.16666667]]\n",
      "[[ 0.5  1.   1.5]\n",
      " [ 2.   2.5  3. ]]\n"
     ]
    }
   ],
   "source": [
    "## Arithmetic Operations with Scalar\n",
    "\n",
    "##Addition\n",
    "\n",
    "print(\"Scalar Addition\")\n",
    "print(arr+1)\n",
    "\n",
    "print(\"Scalar Subtraction\")\n",
    "print(arr-1)\n",
    "\n",
    "print(\"Scalar Multiplication\")\n",
    "print(arr*2)\n",
    "\n",
    "print(\"Scalar Division\")\n",
    "print(1/arr)\n",
    "print(arr/2)\n",
    "\n",
    "\n",
    "##Operations between differently sized arrays is called broadcasting"
   ]
  },
  {
   "cell_type": "markdown",
   "metadata": {},
   "source": [
    "## Data Processing Using Array\n",
    "\n",
    "Using NumPy arrays enables you to express many kinds of data processing tasks as concise array expressions that might otherwise require writing loops. This practice of replacing explicit loops with array expressions is commonly referred to as vectorization."
   ]
  },
  {
   "cell_type": "markdown",
   "metadata": {},
   "source": [
    "### Indexing and Slicing\n",
    "\n",
    "NumPy array indexing is a rich topic, as there are many ways you may want to select a subset of your data or individual elements. One-dimensional arrays are simple; on the surface they act similarly to Python lists:"
   ]
  },
  {
   "cell_type": "code",
   "execution_count": 58,
   "metadata": {},
   "outputs": [
    {
     "name": "stdout",
     "output_type": "stream",
     "text": [
      "My Array is:\n",
      "[0 1 2 3 4 5 6 7 8 9]\n",
      "Extract 5th element from the array\n",
      "5\n",
      "Slice 5th to 7th elements in array\n",
      "[5 6 7]\n"
     ]
    }
   ],
   "source": [
    "arr = np.arange(10)\n",
    "\n",
    "print(\"My Array is:\")\n",
    "print(arr)\n",
    "\n",
    "print(\"Extract 5th index from the array\")\n",
    "print(arr[5])\n",
    "\n",
    "print(\"Slice 5th to 7th index in array\")\n",
    "print(arr[5:8])"
   ]
  },
  {
   "cell_type": "code",
   "execution_count": 12,
   "metadata": {},
   "outputs": [
    {
     "name": "stdout",
     "output_type": "stream",
     "text": [
      "[ 0  1  2  3  4 12 12 12  8  9]\n"
     ]
    }
   ],
   "source": [
    "\n",
    "arr1 = np.arange(10)\n",
    "arr1[5:8] = 12\n",
    "print(arr1)\n"
   ]
  },
  {
   "cell_type": "code",
   "execution_count": 21,
   "metadata": {},
   "outputs": [
    {
     "name": "stdout",
     "output_type": "stream",
     "text": [
      "Original Array: \n",
      " [[5 0 3 3]\n",
      " [7 9 3 5]\n",
      " [2 4 7 6]]\n",
      "Slice : 5\n",
      "Slice : 3\n"
     ]
    }
   ],
   "source": [
    "#In a multi-dimensional array, items can be accessed using a comma-separated tuple of indices:\n",
    "import numpy as np\n",
    "np.random.seed(0)\n",
    "x2 = np.random.randint(10, size=(3, 4))  # Two-dimensional array\n",
    "\n",
    "print(\"Original Array: \\n\",x2)\n",
    "\n",
    "print(\"Slice :\",x2[(0, 0)])\n",
    "\n",
    "print(\"Slice :\",x2[(0, -1)])"
   ]
  },
  {
   "cell_type": "code",
   "execution_count": 43,
   "metadata": {},
   "outputs": [
    {
     "name": "stdout",
     "output_type": "stream",
     "text": [
      "[    0     1     2     3     4     5 12345     7     8     9]\n",
      "[0, 1, 2, 3, 4, 5, 6, 7, 8, 9]\n",
      "[5, 12345, 7]\n"
     ]
    }
   ],
   "source": [
    "#Update the Slice which is different from List\n",
    "\n",
    "#Array slices are views on the original array.\n",
    "#This means that the data is not copied, and any modifications to \n",
    "#the view will be reflected in the source array\n",
    "arr1 = np.arange(10)\n",
    "arr_slice = arr1[5:8]\n",
    "arr_slice[1] = 12345\n",
    "print(arr1)\n",
    "\n",
    "#Not true in case of list\n",
    "lst1 = [0,1,2,3,4,5,6,7,8,9]\n",
    "lst_slice = lst1[5:8]\n",
    "lst_slice[1] = 12345\n",
    "print(lst1)\n",
    "print(lst_slice)\n",
    "\n",
    "##As NumPy has been designed with large data use cases in mind, \n",
    "#you could imagine performance and\n",
    "##memory problems if NumPy insisted on copying data left and right."
   ]
  },
  {
   "cell_type": "code",
   "execution_count": 12,
   "metadata": {},
   "outputs": [
    {
     "data": {
      "text/plain": [
       "numpy.ndarray"
      ]
     },
     "execution_count": 12,
     "metadata": {},
     "output_type": "execute_result"
    }
   ],
   "source": [
    "type(np.arange(10))"
   ]
  },
  {
   "cell_type": "markdown",
   "metadata": {},
   "source": [
    "If you want a copy of a slice of an ndarray instead of a view, you will\n",
    "need to explicitly copy the array; for example arr[5:8].copy()."
   ]
  },
  {
   "cell_type": "code",
   "execution_count": 14,
   "metadata": {},
   "outputs": [
    {
     "data": {
      "text/plain": [
       "array([3, 1, 2, 3, 4, 5, 6, 7, 8, 9])"
      ]
     },
     "execution_count": 14,
     "metadata": {},
     "output_type": "execute_result"
    }
   ],
   "source": [
    "#Keep in mind that, unlike Python lists, NumPy arrays have a fixed type. This means, for example, \n",
    "#that if you attempt to insert a floating-point value to an integer array, the value will be silently truncated. \n",
    "x1 = np.arange(10)\n",
    "x1[0] = 3.14159  # this will be truncated!\n",
    "x1"
   ]
  },
  {
   "cell_type": "markdown",
   "metadata": {},
   "source": [
    "# Array Slicing: Accessing Subarrays\n",
    "\n",
    "ust as we can use square brackets to access individual array elements, we can also use them to access subarrays with the slice notation, marked by the colon (:) character. The NumPy slicing syntax follows that of the standard Python list; to access a slice of an array x, use this:"
   ]
  },
  {
   "cell_type": "code",
   "execution_count": 19,
   "metadata": {},
   "outputs": [
    {
     "name": "stdout",
     "output_type": "stream",
     "text": [
      "Original Array: [0 1 2 3 4 5 6 7 8 9]\n",
      "First 5 elements : [0 1 2 3 4]\n",
      "Elements after index 5 : [5 6 7 8 9]\n",
      "Elements  4th to 6th : [4 5 6]\n",
      "Every Other Element : [0 2 4 6 8]\n",
      "Every Other Element starting from index 1 : [1 3 5 7 9]\n"
     ]
    }
   ],
   "source": [
    "# x[start:stop:step]\n",
    "\n",
    "#they default to the values start=0, stop=size of dimension, step=1\n",
    "\n",
    "x = np.arange(10)\n",
    "print(\"Original Array:\",x)\n",
    "\n",
    "print(\"First 5 elements :\", x[:5])\n",
    "print(\"Elements after index 5 :\", x[5:])\n",
    "print(\"Elements  4th to 6th :\", x[4:7])\n",
    "print(\"Every Other Element :\",x[::2])\n",
    "print(\"Every Other Element starting from index 1 :\",x[1::2])"
   ]
  },
  {
   "cell_type": "code",
   "execution_count": 22,
   "metadata": {},
   "outputs": [
    {
     "name": "stdout",
     "output_type": "stream",
     "text": [
      "Origina Array :\n",
      " [[5 0 3 3]\n",
      " [7 9 3 5]\n",
      " [2 4 7 6]]\n",
      "Two Row and three Column: \n",
      " [[5 0 3]\n",
      " [7 9 3]]\n",
      "All rows, every other column :\n",
      " [[0 3]\n",
      " [9 5]\n",
      " [4 6]]\n"
     ]
    }
   ],
   "source": [
    "#Multi-dimensional slices work in the same way, with multiple slices separated by commas. For example:\n",
    "\n",
    "print(\"Origina Array :\\n\",x2)\n",
    "print(\"Two Row and three Column: \\n\",x2[:2, :3])\n",
    "print(\"All rows, every other column :\\n\",x2[:3, 1::2])"
   ]
  },
  {
   "cell_type": "code",
   "execution_count": 22,
   "metadata": {},
   "outputs": [
    {
     "name": "stdout",
     "output_type": "stream",
     "text": [
      "First Column of x2 :\n",
      " [2 9 8]\n",
      "First row of x2 :\n",
      " [2 8 6 6]\n"
     ]
    }
   ],
   "source": [
    "#One commonly needed routine is accessing of single rows or columns of an array. \n",
    "#This can be done by combining indexing and slicing, using an empty slice marked by a single colon (:):\n",
    "\n",
    "print(\"First Column of x2 :\\n\",x2[:,0])\n",
    "\n",
    "print(\"First row of x2 :\\n\",x2[0,:])"
   ]
  },
  {
   "cell_type": "code",
   "execution_count": 25,
   "metadata": {},
   "outputs": [
    {
     "name": "stdout",
     "output_type": "stream",
     "text": [
      "[[-0.05503512 -0.10731045  1.36546718 -0.09769572]\n",
      " [-2.42595457 -0.4530558  -0.470771    0.973016  ]\n",
      " [-1.27814912  1.43737068 -0.07770457  1.08963016]\n",
      " [ 0.09654267  1.41866711  1.16827314  0.94718595]\n",
      " [ 1.08548703  2.38222445 -0.40602374  0.26644534]\n",
      " [-1.35571372 -0.11410253 -0.84423086  0.70564081]\n",
      " [-0.39878617 -0.82719653 -0.4157447  -0.52451219]]\n",
      "[ True False False  True False False False]\n",
      "Fetch the data where names = Bob\n",
      "[[-0.05503512 -0.10731045  1.36546718 -0.09769572]\n",
      " [ 0.09654267  1.41866711  1.16827314  0.94718595]]\n",
      "Print last 2 columns\n",
      "[[ 1.36546718 -0.09769572]\n",
      " [ 1.16827314  0.94718595]]\n",
      "Negate only Bob\n",
      "[[-2.42595457 -0.4530558  -0.470771    0.973016  ]\n",
      " [-1.27814912  1.43737068 -0.07770457  1.08963016]\n",
      " [ 1.08548703  2.38222445 -0.40602374  0.26644534]\n",
      " [-1.35571372 -0.11410253 -0.84423086  0.70564081]\n",
      " [-0.39878617 -0.82719653 -0.4157447  -0.52451219]]\n",
      "Using Logical Operator\n",
      "[[-0.05503512 -0.10731045  1.36546718 -0.09769572]\n",
      " [-1.27814912  1.43737068 -0.07770457  1.08963016]\n",
      " [ 0.09654267  1.41866711  1.16827314  0.94718595]\n",
      " [ 1.08548703  2.38222445 -0.40602374  0.26644534]]\n"
     ]
    }
   ],
   "source": [
    "#Boolean Indexing\n",
    "\n",
    "#Let’s consider an example where we have some data in an array and an array of names with duplicates.\n",
    "names = np.array(['Bob', 'Joe', 'Will', 'Bob', 'Will', 'Joe', 'Joe'])\n",
    "\n",
    "data = np.random.randn(7, 4)\n",
    "\n",
    "print(data)\n",
    "\n",
    "print(names == 'Bob')\n",
    "\n",
    "print(\"Fetch the data where names = Bob\")\n",
    "print(data[names == 'Bob'])\n",
    "\n",
    "#Getting last 2 Columns\n",
    "print(\"Print last 2 columns\")\n",
    "print(data[names == 'Bob', 2:])\n",
    "\n",
    "\n",
    "#To select everything but 'Bob', you can either use != or negate the condition using\n",
    "print(\"Negate only Bob\")\n",
    "print(data[~(names == 'Bob')])\n",
    "\n",
    "##Usig Logical Operator\n",
    "print(\"Using Logical Operator\")\n",
    "print(data[(names == 'Bob') | (names == 'Will')])\n",
    "\n"
   ]
  },
  {
   "cell_type": "markdown",
   "metadata": {},
   "source": [
    "## Note: \n",
    "Selecting data from an array by boolean indexing always creates a copy of the data,\n",
    "even if the returned array is unchanged. \n",
    "\n",
    "The Python keywords and and or do not work with boolean arrays. Use \"&\" and \"|\""
   ]
  },
  {
   "cell_type": "markdown",
   "metadata": {},
   "source": [
    "## Transposing: \n",
    "\n",
    "Another useful type of operation is reshaping of arrays. The most flexible way of doing this is with the reshape method\n",
    "\n",
    "Note that for this to work, the size of the initial array must match the size of the reshaped array. Where possible, the reshape method will use a no-copy view of the initial array\n",
    "\n",
    "Transposing is a special form of reshaping which similarly returns a view on the underlying data without copying anything. Arrays have the transpose method and also the special T attribute"
   ]
  },
  {
   "cell_type": "code",
   "execution_count": 32,
   "metadata": {},
   "outputs": [
    {
     "name": "stdout",
     "output_type": "stream",
     "text": [
      "[[ 0  1  2  3  4]\n",
      " [ 5  6  7  8  9]\n",
      " [10 11 12 13 14]]\n",
      "Transposed Array\n",
      " [[ 0  5 10]\n",
      " [ 1  6 11]\n",
      " [ 2  7 12]\n",
      " [ 3  8 13]\n",
      " [ 4  9 14]]\n"
     ]
    }
   ],
   "source": [
    "arr = np.arange(15).reshape((3, 5))\n",
    "print(arr)\n",
    "\n",
    "\n",
    "print(\"Transposed Array\\n\",arr.T)"
   ]
  },
  {
   "cell_type": "code",
   "execution_count": 9,
   "metadata": {},
   "outputs": [
    {
     "name": "stdout",
     "output_type": "stream",
     "text": [
      "[[[ 0  1  2  3]\n",
      "  [ 4  5  6  7]]\n",
      "\n",
      " [[ 8  9 10 11]\n",
      "  [12 13 14 15]]]\n",
      "[[[ 0  4]\n",
      "  [ 1  5]\n",
      "  [ 2  6]\n",
      "  [ 3  7]]\n",
      "\n",
      " [[ 8 12]\n",
      "  [ 9 13]\n",
      "  [10 14]\n",
      "  [11 15]]]\n"
     ]
    }
   ],
   "source": [
    "#Simple transposing with .T is just a special case of swapping axes. ndarray has the method \n",
    "#swapaxes which takes a pair of axis numbers:\n",
    "\n",
    "arr1 = np.arange(16).reshape((2, 2, 4))\n",
    "\n",
    "print(arr1)\n",
    "\n",
    "print(arr1.swapaxes(1, 2))\n",
    "\n",
    "#swapaxes similarly returns a view on the data without making a copy."
   ]
  },
  {
   "cell_type": "code",
   "execution_count": 32,
   "metadata": {},
   "outputs": [
    {
     "name": "stdout",
     "output_type": "stream",
     "text": [
      "Original Array :\n",
      " [0 1 2 3 4 5 6 7 8 9]\n",
      "Sqrt Array :\n",
      " [ 0.          1.          1.41421356  1.73205081  2.          2.23606798\n",
      "  2.44948974  2.64575131  2.82842712  3.        ]\n",
      "Exp Array: \n",
      " [  1.00000000e+00   2.71828183e+00   7.38905610e+00   2.00855369e+01\n",
      "   5.45981500e+01   1.48413159e+02   4.03428793e+02   1.09663316e+03\n",
      "   2.98095799e+03   8.10308393e+03]\n"
     ]
    }
   ],
   "source": [
    "#Universal Functions: Fast Element-wise Array Functions\n",
    "\n",
    "arr = np.arange(10)\n",
    "print(\"Original Array :\\n\",arr)\n",
    "#x = randn(8)\n",
    "print(\"Sqrt Array :\\n\",np.sqrt(arr))\n",
    "\n",
    "print(\"Exp Array: \\n\",np.exp(arr))"
   ]
  },
  {
   "cell_type": "code",
   "execution_count": 2,
   "metadata": {},
   "outputs": [
    {
     "name": "stdout",
     "output_type": "stream",
     "text": [
      "First Matrix:\n",
      "\n",
      "[-0.47825776  0.99738017 -1.09289035  1.41274754  0.85764526 -0.58287568\n",
      " -0.39246165 -0.46011903]\n",
      "Second Matrix:\n",
      " [ 0.32817916 -0.91934333  0.33380094  0.84193652  0.42418911 -0.591685\n",
      "  0.4248977  -1.29250844]\n",
      "[ 0.32817916 -0.91934333  0.33380094  0.84193652  0.42418911 -0.591685\n",
      "  0.4248977  -1.29250844]\n",
      "Add both Matrix:\n",
      " [-0.15007859  0.07803683 -0.75908941  2.25468406  1.28183437 -1.17456067\n",
      "  0.03243606 -1.75262746]\n",
      "Find Maximum Elmentwise in Both Matrix [ 0.32817916  0.99738017  0.33380094  1.41274754  0.85764526 -0.58287568\n",
      "  0.4248977  -0.46011903]\n"
     ]
    }
   ],
   "source": [
    "#add or maximum, take 2 arrays and return a single array as the result:\n",
    "import numpy as np\n",
    "x = np.random.randn(8)\n",
    "y = np.random.randn(8)\n",
    "\n",
    "print(\"First Matrix:\\n\",x)\n",
    "print(x)\n",
    "\n",
    "print(\"Second Matrix:\\n\",y)\n",
    "print(y)\n",
    "\n",
    "\n",
    "print(\"Add both Matrix:\\n\",np.add(x,y))\n",
    "print(\"Find Maximum Elmentwise in Both Matrix\",np.maximum(x,y))"
   ]
  },
  {
   "cell_type": "markdown",
   "metadata": {},
   "source": [
    "## Mathematical and Statistical Methods\n",
    "\n",
    "A set of mathematical functions which compute statistics about an entire array or about the data along an axis are accessible as array methods. Aggregations (often called reductions) like sum, mean, and standard deviation std can either be used by calling the array instance method:"
   ]
  },
  {
   "cell_type": "code",
   "execution_count": 2,
   "metadata": {},
   "outputs": [
    {
     "name": "stdout",
     "output_type": "stream",
     "text": [
      "Array is:\n",
      " [[ 0.19028434  1.14265079  0.22754929 -0.69879086]\n",
      " [ 0.39163904 -0.26441324  0.96396879 -0.1221968 ]\n",
      " [-0.92802889  1.41837739  0.38485403 -0.17307169]\n",
      " [ 0.50350456 -1.43640598 -0.50418397 -0.53425358]\n",
      " [-0.53208188 -1.0755235   1.03059955 -0.77000357]]\n",
      "Mean is:  -0.0392763093576\n",
      "Mean is: -0.0392763093576\n",
      "Sum is: -0.785526187151\n",
      "Sum is: -0.785526187151\n"
     ]
    }
   ],
   "source": [
    "import numpy as np\n",
    "arr = np.random.randn(5, 4) # normally-distributed data\n",
    "print(\"Array is:\\n\",arr)\n",
    "\n",
    "print(\"Mean is: \",arr.mean())\n",
    "print(\"Mean is:\", np.mean(arr))\n",
    "\n",
    "print(\"Sum is:\", arr.sum())\n",
    "print(\"Sum is:\", np.sum(arr))\n",
    "\n",
    "\n"
   ]
  },
  {
   "cell_type": "markdown",
   "metadata": {},
   "source": [
    "Functions like mean and sum take an optional axis argument which computes the statistic over the given axis, resulting in an array with one fewer dimension:"
   ]
  },
  {
   "cell_type": "code",
   "execution_count": 3,
   "metadata": {},
   "outputs": [
    {
     "data": {
      "text/plain": [
       "array([ 0.21542339,  0.24224945,  0.17553271, -0.49283474, -0.33675235])"
      ]
     },
     "execution_count": 3,
     "metadata": {},
     "output_type": "execute_result"
    }
   ],
   "source": [
    "arr.mean(axis=1)"
   ]
  },
  {
   "cell_type": "markdown",
   "metadata": {},
   "source": [
    "Other methods like cumsum and cumprod do not aggregate, instead producing an array of the intermediate results:"
   ]
  },
  {
   "cell_type": "code",
   "execution_count": 75,
   "metadata": {},
   "outputs": [
    {
     "name": "stdout",
     "output_type": "stream",
     "text": [
      "Array is :\n",
      " [[0 1 2]\n",
      " [3 4 5]\n",
      " [6 7 8]]\n",
      "Cumulative Sum Rowwise: \n",
      " [[ 0  1  2]\n",
      " [ 3  5  7]\n",
      " [ 9 12 15]]\n",
      "Cumulative Sum Columwise: \n",
      " [[ 0  1  3]\n",
      " [ 3  7 12]\n",
      " [ 6 13 21]]\n",
      "Cumulative Product Rowwise: \n",
      " [[ 0  1  2]\n",
      " [ 0  4 10]\n",
      " [ 0 28 80]]\n",
      "Cumulative Product Columwise: \n",
      " [[  0   0   0]\n",
      " [  3  12  60]\n",
      " [  6  42 336]]\n"
     ]
    }
   ],
   "source": [
    "arr = np.array([[0, 1, 2], [3, 4, 5], [6, 7, 8]])\n",
    "\n",
    "print(\"Array is :\\n\",arr)\n",
    "\n",
    "print(\"Cumulative Sum Rowwise: \\n\",arr.cumsum(0))\n",
    "\n",
    "print(\"Cumulative Sum Columwise: \\n\",arr.cumsum(1))\n",
    "\n",
    "print(\"Cumulative Product Rowwise: \\n\",arr.cumprod(0))\n",
    "\n",
    "print(\"Cumulative Product Columwise: \\n\",arr.cumprod(1))"
   ]
  },
  {
   "cell_type": "code",
   "execution_count": 16,
   "metadata": {},
   "outputs": [
    {
     "name": "stdout",
     "output_type": "stream",
     "text": [
      "Original Array: \n",
      " [[ 0.38263521 -1.32558675  0.9638272 ]\n",
      " [ 0.73020209  0.47968292  0.85165092]\n",
      " [ 0.01410554  0.64176615  0.16994591]\n",
      " [-0.58405723 -0.26258071 -0.75043188]\n",
      " [ 1.35291584 -0.52301173  1.20502556]]\n",
      "Sortd Array Row wise: \n",
      " [[-0.58405723 -1.32558675 -0.75043188]\n",
      " [ 0.01410554 -0.52301173  0.16994591]\n",
      " [ 0.38263521 -0.26258071  0.85165092]\n",
      " [ 0.73020209  0.47968292  0.9638272 ]\n",
      " [ 1.35291584  0.64176615  1.20502556]]\n",
      "Sortd Array Column wise: \n",
      " [[-1.32558675 -0.75043188 -0.58405723]\n",
      " [-0.52301173  0.01410554  0.16994591]\n",
      " [-0.26258071  0.38263521  0.85165092]\n",
      " [ 0.47968292  0.73020209  0.9638272 ]\n",
      " [ 0.64176615  1.20502556  1.35291584]]\n"
     ]
    }
   ],
   "source": [
    "#Sorting:\n",
    "import numpy as np\n",
    "arr = np.random.randn(5,3)\n",
    "\n",
    "print(\"Original Array: \\n\",arr)\n",
    "#np.sort returns a sorted copy of an array\n",
    "arr.sort(0)\n",
    "print(\"Sortd Array Row wise: \\n\",arr)\n",
    "arr.sort(1)\n",
    "print(\"Sortd Array Column wise: \\n\",arr)\n",
    "\n",
    "\n"
   ]
  },
  {
   "cell_type": "code",
   "execution_count": 11,
   "metadata": {},
   "outputs": [
    {
     "name": "stdout",
     "output_type": "stream",
     "text": [
      "Unique Values in Array (Sorted Order) : ['Bob' 'Joe' 'Will']\n"
     ]
    }
   ],
   "source": [
    "#NumPy has some basic set operations for one-dimensional ndarrays. Probably the most\n",
    "#commonly used one is np.unique, which returns the sorted unique values in an array\n",
    "\n",
    "names = np.array(['Bob', 'Joe', 'Will', 'Bob', 'Will', 'Joe', 'Joe'])\n",
    "print(\"Unique Values in Array (Sorted Order) :\",np.unique(names))"
   ]
  },
  {
   "cell_type": "markdown",
   "metadata": {},
   "source": [
    "## Random Number Generation\n",
    "\n",
    "The numpy.random module supplements the built-in Python random with functions for efficiently generating whole arrays of sample values from the standard differennt distributions\n",
    "\n",
    "    rand: Draw samples from a uniform distribution\n",
    "    randint: Draw random integers from a given low-to-high range\n",
    "    randn: Draw samples from a normal distribution \n",
    "    binomial: Draw samples a binomial distribution\n",
    "    normal: Draw samples from a normal (Gaussian) distribution\n",
    "    chi-square: Draw samples from a chi-square distribution\n",
    "    uniform: Draw samples from a uniform [0, 1) distribution\n",
    "    "
   ]
  },
  {
   "cell_type": "code",
   "execution_count": 15,
   "metadata": {},
   "outputs": [
    {
     "name": "stdout",
     "output_type": "stream",
     "text": [
      "[[-2.13772189  0.55799732 -0.12064481 -0.39563065]\n",
      " [-0.88607616  1.54565784  1.54784569 -1.48324663]\n",
      " [ 1.33135235 -1.34664601  0.5987885   0.59592675]\n",
      " [-0.29389159 -0.94253054 -0.32973574 -3.38952094]]\n"
     ]
    }
   ],
   "source": [
    "samples = np.random.normal(size=(4, 4))\n",
    "print(samples)"
   ]
  },
  {
   "cell_type": "code",
   "execution_count": null,
   "metadata": {},
   "outputs": [],
   "source": []
  },
  {
   "cell_type": "code",
   "execution_count": null,
   "metadata": {},
   "outputs": [],
   "source": []
  },
  {
   "cell_type": "code",
   "execution_count": null,
   "metadata": {},
   "outputs": [],
   "source": []
  },
  {
   "cell_type": "code",
   "execution_count": null,
   "metadata": {},
   "outputs": [],
   "source": []
  }
 ],
 "metadata": {
  "kernelspec": {
   "display_name": "Python 3",
   "language": "python",
   "name": "python3"
  },
  "language_info": {
   "codemirror_mode": {
    "name": "ipython",
    "version": 3
   },
   "file_extension": ".py",
   "mimetype": "text/x-python",
   "name": "python",
   "nbconvert_exporter": "python",
   "pygments_lexer": "ipython3",
   "version": "3.7.4"
  }
 },
 "nbformat": 4,
 "nbformat_minor": 2
}
