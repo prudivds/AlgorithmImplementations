{
 "cells": [
  {
   "cell_type": "markdown",
   "metadata": {},
   "source": [
    "#### Python Session                       \n",
    "#### Date:  1/29/2019\n",
    "#### Author: Prudhvi\n",
    "\n",
    "##### Description: This session will cover:\n",
    "                     Working with Control Statemets\n",
    "                     \n",
    "##############################################################################"
   ]
  },
  {
   "cell_type": "markdown",
   "metadata": {},
   "source": [
    "# Arithmetic Operators:\n",
    "\n",
    "Like any ohter language, the  addition, subtraction, multiplication and division operator can be used with numbers "
   ]
  },
  {
   "cell_type": "code",
   "execution_count": 1,
   "metadata": {},
   "outputs": [
    {
     "name": "stdout",
     "output_type": "stream",
     "text": [
      "3\n"
     ]
    }
   ],
   "source": [
    "x = 1\n",
    "y = 2\n",
    "\n",
    "z = x+ y\n",
    "print(z)"
   ]
  },
  {
   "cell_type": "code",
   "execution_count": 2,
   "metadata": {},
   "outputs": [
    {
     "name": "stdout",
     "output_type": "stream",
     "text": [
      "5\n"
     ]
    }
   ],
   "source": [
    "x = 10\n",
    "y = 5\n",
    "\n",
    "z = x - y\n",
    "print(z)"
   ]
  },
  {
   "cell_type": "code",
   "execution_count": 1,
   "metadata": {},
   "outputs": [
    {
     "name": "stdout",
     "output_type": "stream",
     "text": [
      "3.4\n"
     ]
    }
   ],
   "source": [
    "x = 17\n",
    "y = 5\n",
    "z = x/y\n",
    "print(z)"
   ]
  },
  {
   "cell_type": "code",
   "execution_count": 6,
   "metadata": {},
   "outputs": [
    {
     "name": "stdout",
     "output_type": "stream",
     "text": [
      "2\n"
     ]
    }
   ],
   "source": [
    "x = 17\n",
    "y = 5\n",
    "remainder = x % y\n",
    "print(remainder)"
   ]
  },
  {
   "cell_type": "code",
   "execution_count": 8,
   "metadata": {},
   "outputs": [
    {
     "name": "stdout",
     "output_type": "stream",
     "text": [
      "3\n"
     ]
    }
   ],
   "source": [
    "x = 17\n",
    "y = 5\n",
    "\n",
    "quotient = x//y\n",
    "print(quotient)"
   ]
  },
  {
   "cell_type": "code",
   "execution_count": 9,
   "metadata": {},
   "outputs": [
    {
     "name": "stdout",
     "output_type": "stream",
     "text": [
      "3.4\n"
     ]
    }
   ],
   "source": [
    "print(x/y)"
   ]
  },
  {
   "cell_type": "markdown",
   "metadata": {},
   "source": [
    "# Control Statements\n",
    "\n",
    "The if statement in python is same as c language which is used test a condition. If condition is true, statement of if block is executed otherwise it is skipped.\n",
    "\n",
    "Syntax: \n",
    "\n",
    "if(condition):  \n",
    "   statements \n",
    "   \n",
    "Python uses boolean variables to evaluate conditions. The boolen values True and False are returned when an expression is evaluated."
   ]
  },
  {
   "cell_type": "code",
   "execution_count": 3,
   "metadata": {},
   "outputs": [
    {
     "name": "stdout",
     "output_type": "stream",
     "text": [
      "inside if statement\n"
     ]
    }
   ],
   "source": [
    "a = 10\n",
    "\n",
    "if a >= 10:\n",
    "    print(\"inside if statement\")\n"
   ]
  },
  {
   "cell_type": "code",
   "execution_count": 9,
   "metadata": {},
   "outputs": [
    {
     "name": "stdout",
     "output_type": "stream",
     "text": [
      "a is 5\n"
     ]
    }
   ],
   "source": [
    "a=5\n",
    "if a ==5:\n",
    "    print(\"a is 5\")\n",
    "else:\n",
    "    print(\"a is not 5\")"
   ]
  },
  {
   "cell_type": "markdown",
   "metadata": {},
   "source": [
    " Nested if else conditions\n",
    " \n",
    "          When we need to check for multiple conditions to be true then we use elif Statement.\n",
    "\n",
    "          This statement is like executing a if statement inside a else statement."
   ]
  },
  {
   "cell_type": "code",
   "execution_count": 11,
   "metadata": {},
   "outputs": [
    {
     "name": "stdout",
     "output_type": "stream",
     "text": [
      "a is greater than 30\n"
     ]
    }
   ],
   "source": [
    "a = 35\n",
    "\n",
    "if a <= 20:\n",
    "    print(\"a is not greater than 20\")\n",
    "elif a >= 30:\n",
    "    print(\"a is greater than 30\")\n",
    "else:\n",
    "    print(\"a is b/w 20 and 30\")\n"
   ]
  },
  {
   "cell_type": "markdown",
   "metadata": {},
   "source": [
    "The \"and\" and \"or\" boolean operators allowe building complex boolean expression"
   ]
  },
  {
   "cell_type": "code",
   "execution_count": 13,
   "metadata": {},
   "outputs": [
    {
     "name": "stdout",
     "output_type": "stream",
     "text": [
      "Match not found\n"
     ]
    }
   ],
   "source": [
    "name = \"ABC\"\n",
    "age = 24\n",
    "\n",
    "if name == \"ABC\" and age == 23:\n",
    "    print(\"Match Found\")\n",
    "else:\n",
    "    print('Match not found')"
   ]
  },
  {
   "cell_type": "code",
   "execution_count": 1,
   "metadata": {},
   "outputs": [
    {
     "name": "stdout",
     "output_type": "stream",
     "text": [
      "Match not found\n"
     ]
    }
   ],
   "source": [
    "name = \"ABgC\"\n",
    "age = 24\n",
    "\n",
    "\n",
    "if name == \"ABC\" or age == 23:\n",
    "    print(\"Match Found\")\n",
    "else:\n",
    "    print('Match not found')"
   ]
  },
  {
   "cell_type": "code",
   "execution_count": null,
   "metadata": {},
   "outputs": [],
   "source": [
    "# Loops\n",
    "\n",
    "#1 For Loop:\n",
    "#For Loop is used to iterate a variable over a sequence(i.e., list or string) in the order that they appear.\n",
    "\n",
    "\n",
    "Steps:\n",
    " 1. Firstly, the first value will be assigned in the variable.\n",
    " 2. Secondly all the statements in the body of the loop are executed with the same value.\n",
    " 3. Thirdly, once step second is completed then variable is assigned the next value in the sequence and step second is repeated.\n",
    " 4. Finally, it continues till all the values in the sequence are assigned in the variable and processed."
   ]
  },
  {
   "cell_type": "code",
   "execution_count": 4,
   "metadata": {},
   "outputs": [
    {
     "name": "stdout",
     "output_type": "stream",
     "text": [
      "[2, 3, 4]\n"
     ]
    }
   ],
   "source": [
    "print(list(range(2,5)))"
   ]
  },
  {
   "cell_type": "code",
   "execution_count": 7,
   "metadata": {},
   "outputs": [
    {
     "name": "stdout",
     "output_type": "stream",
     "text": [
      "[1, 2, 3, 4]\n"
     ]
    }
   ],
   "source": [
    "a=range(1,5)\n",
    "print(list(a))"
   ]
  },
  {
   "cell_type": "code",
   "execution_count": 18,
   "metadata": {},
   "outputs": [
    {
     "data": {
      "text/plain": [
       "[1, 2, 3, 4]"
      ]
     },
     "execution_count": 18,
     "metadata": {},
     "output_type": "execute_result"
    }
   ],
   "source": [
    "range_1=range(1,5)\n",
    "list(range_1)"
   ]
  },
  {
   "cell_type": "code",
   "execution_count": 18,
   "metadata": {},
   "outputs": [
    {
     "name": "stdout",
     "output_type": "stream",
     "text": [
      "1\n"
     ]
    }
   ],
   "source": [
    "a=1\n",
    "if a==True:\n",
    "    print(a)\n",
    "elif a==False:\n",
    "    print('False')\n",
    "else:\n",
    "    print('Not True not False')"
   ]
  },
  {
   "cell_type": "code",
   "execution_count": 1,
   "metadata": {},
   "outputs": [
    {
     "name": "stdout",
     "output_type": "stream",
     "text": [
      "0\n",
      "1\n",
      "2\n",
      "3\n",
      "4\n"
     ]
    }
   ],
   "source": [
    "for i in range(5):\n",
    "    print(i)"
   ]
  },
  {
   "cell_type": "code",
   "execution_count": 2,
   "metadata": {},
   "outputs": [
    {
     "name": "stdout",
     "output_type": "stream",
     "text": [
      "2\n",
      "3\n",
      "4\n",
      "5\n",
      "6\n",
      "7\n"
     ]
    }
   ],
   "source": [
    "list=[2,3,4,5,6,7]\n",
    "for i in list:\n",
    "    print(i)"
   ]
  },
  {
   "cell_type": "code",
   "execution_count": 13,
   "metadata": {},
   "outputs": [
    {
     "name": "stdout",
     "output_type": "stream",
     "text": [
      "Test\n",
      "TestTest\n",
      "TestTestTest\n",
      "TestTestTestTest\n"
     ]
    }
   ],
   "source": [
    "num = 2\n",
    "for a in list(range(1,5)):\n",
    "    a='Test'*a\n",
    "    print(a)"
   ]
  },
  {
   "cell_type": "code",
   "execution_count": 19,
   "metadata": {},
   "outputs": [
    {
     "name": "stdout",
     "output_type": "stream",
     "text": [
      "Actual List [2, 3, 4, 5, 6, 7]\n",
      "Updated List with 2 multiplication [4, 6, 8, 10, 12, 14]\n"
     ]
    }
   ],
   "source": [
    "list_appended=[]\n",
    "list=[2,3,4,5,6,7]\n",
    "for i in list:\n",
    "    x=i*2\n",
    "    list_appended.append(x)\n",
    "\n",
    "print('Actual List',list)\n",
    "print('Updated List with 2 multiplication',list_appended)"
   ]
  },
  {
   "cell_type": "code",
   "execution_count": 22,
   "metadata": {},
   "outputs": [
    {
     "name": "stdout",
     "output_type": "stream",
     "text": [
      "Actual List [2, 3, 4, 5, 6, 7]\n",
      "Index 0\n",
      "[4, 3, 4, 5, 6, 7]\n",
      "Index 1\n",
      "[4, 6, 4, 5, 6, 7]\n",
      "Index 2\n",
      "[4, 6, 8, 5, 6, 7]\n",
      "Index 3\n",
      "[4, 6, 8, 10, 6, 7]\n",
      "Index 4\n",
      "[4, 6, 8, 10, 12, 7]\n",
      "Index 5\n",
      "[4, 6, 8, 10, 12, 14]\n",
      "Updated List with 2 multiplication [4, 6, 8, 10, 12, 14]\n"
     ]
    }
   ],
   "source": [
    "list=[2,3,4,5,6,7]\n",
    "print('Actual List',list)\n",
    "for i in range(len(list)): #[0,1,2,3,4,5]\n",
    "    print('Index',i)\n",
    "    list[i]=list[i]*2\n",
    "    print(list)\n",
    "print('Updated List with 2 multiplication',list)"
   ]
  },
  {
   "cell_type": "code",
   "execution_count": 26,
   "metadata": {},
   "outputs": [
    {
     "name": "stdout",
     "output_type": "stream",
     "text": [
      "Actual List [2, 3, 4, 5, 6, 7]\n",
      "Index 0\n",
      "[6, 3, 4, 5, 6, 7]\n",
      "Index 1\n",
      "[6, 0, 4, 5, 6, 7]\n",
      "Index 2\n",
      "[6, 0, 16, 5, 6, 7]\n",
      "Index 3\n",
      "[6, 0, 16, 30, 6, 7]\n",
      "Index 4\n",
      "[6, 0, 16, 30, 36, 7]\n",
      "Index 5\n",
      "[6, 0, 16, 30, 36, 0]\n",
      "Updated List with 2 multiplication [6, 0, 16, 30, 36, 0]\n"
     ]
    }
   ],
   "source": [
    "list=[2,3,4,5,6,7]\n",
    "print('Actual List',list)\n",
    "for i in range(len(list)):\n",
    "    print('Index',i)\n",
    "    if list[i]<3:\n",
    "        list[i]=list[i]*3\n",
    "    elif list[i]==4:\n",
    "        list[i]=list[i]*4\n",
    "    elif list[i]>=5 and list[i]<7:\n",
    "        list[i]=list[i]*6\n",
    "    else:\n",
    "        list[i]=list[i]*0\n",
    "    print(list)\n",
    "print('Updated List with 2 multiplication',list)"
   ]
  },
  {
   "cell_type": "markdown",
   "metadata": {},
   "source": [
    "# Assignment1\n",
    "\n",
    "Write a program to find the sum of Natural Number from 1 to 10 \n",
    " \n",
    "  \n",
    "   \n",
    "    \n",
    "     \n",
    "      \n",
    "       \n",
    "        \n",
    "        \n",
    "          \n",
    "\n",
    "\n",
    "\n",
    "\n",
    "\n",
    "\n",
    "\n",
    "\n",
    "\n"
   ]
  },
  {
   "cell_type": "code",
   "execution_count": 2,
   "metadata": {},
   "outputs": [
    {
     "name": "stdout",
     "output_type": "stream",
     "text": [
      "1\n",
      "2\n",
      "3\n",
      "4\n",
      "5\n",
      "6\n",
      "7\n",
      "8\n",
      "9\n",
      "10\n"
     ]
    }
   ],
   "source": [
    "for n in range(1,11):\n",
    "     print(n)"
   ]
  },
  {
   "cell_type": "code",
   "execution_count": 11,
   "metadata": {},
   "outputs": [
    {
     "name": "stdout",
     "output_type": "stream",
     "text": [
      "55\n"
     ]
    }
   ],
   "source": [
    "sum1=0  \n",
    "for n in range(1,11):  \n",
    "    sum1+=n  \n",
    "print(sum1)"
   ]
  },
  {
   "cell_type": "code",
   "execution_count": 14,
   "metadata": {},
   "outputs": [
    {
     "name": "stdout",
     "output_type": "stream",
     "text": [
      "20\n"
     ]
    }
   ],
   "source": [
    "sum1=0  \n",
    "list=[1,2,3,4,5,5]\n",
    "for i in range(len(list)):  \n",
    "    sum1+=list[i] \n",
    "print(sum1)"
   ]
  },
  {
   "cell_type": "code",
   "execution_count": 12,
   "metadata": {},
   "outputs": [
    {
     "name": "stdout",
     "output_type": "stream",
     "text": [
      "20\n"
     ]
    }
   ],
   "source": [
    "sum1=0  \n",
    "list=[1,2,3,4,5,5]\n",
    "for n in list:  \n",
    "    sum1+=n \n",
    "print(sum1)"
   ]
  },
  {
   "cell_type": "markdown",
   "metadata": {},
   "source": [
    "# Nested Loops\n",
    "\n",
    "Loops defined inside another loop is called Nested Loop\n"
   ]
  },
  {
   "cell_type": "markdown",
   "metadata": {},
   "source": [
    "# Assignment2\n",
    "\n",
    "Write a program to print:\n",
    "\n",
    "#  \n",
    "# #\n",
    "# # #  \n",
    "# # # #  \n",
    "# # # # #\n",
    " "
   ]
  },
  {
   "cell_type": "code",
   "execution_count": 5,
   "metadata": {},
   "outputs": [
    {
     "name": "stdout",
     "output_type": "stream",
     "text": [
      "hi@hello\n",
      "Hi\n"
     ]
    }
   ],
   "source": [
    "print(\"hi\",end = \"@\")\n",
    "print(\"hello\")\n",
    "print(\"Hi\")"
   ]
  },
  {
   "cell_type": "code",
   "execution_count": 4,
   "metadata": {},
   "outputs": [
    {
     "name": "stdout",
     "output_type": "stream",
     "text": [
      "0\n"
     ]
    }
   ],
   "source": [
    "for j in range(0,1):\n",
    "    print(j)"
   ]
  },
  {
   "cell_type": "code",
   "execution_count": 5,
   "metadata": {},
   "outputs": [
    {
     "data": {
      "text/plain": [
       "list"
      ]
     },
     "execution_count": 5,
     "metadata": {},
     "output_type": "execute_result"
    }
   ],
   "source": [
    "a=[[2,3,4],[3,6,9,12],10,[5,10]]\n",
    "type(a[1])"
   ]
  },
  {
   "cell_type": "code",
   "execution_count": 18,
   "metadata": {},
   "outputs": [
    {
     "name": "stdout",
     "output_type": "stream",
     "text": [
      "Iteration 1 value is : 0\n",
      "Iteration 1 value is:  0 and iteration 2 value is: 0\n",
      "0 0\n",
      "Iteration 1 value is : 1\n",
      "Iteration 1 value is:  1 and iteration 2 value is: 0\n",
      "1 0\n",
      "Iteration 1 value is:  1 and iteration 2 value is: 1\n",
      "1 1\n",
      "Iteration 1 value is : 2\n",
      "Iteration 1 value is:  2 and iteration 2 value is: 0\n",
      "2 0\n",
      "Iteration 1 value is:  2 and iteration 2 value is: 1\n",
      "2 1\n",
      "Iteration 1 value is:  2 and iteration 2 value is: 2\n",
      "2 2\n",
      "Iteration 1 value is : 3\n",
      "Iteration 1 value is:  3 and iteration 2 value is: 0\n",
      "3 0\n",
      "Iteration 1 value is:  3 and iteration 2 value is: 1\n",
      "3 1\n",
      "Iteration 1 value is:  3 and iteration 2 value is: 2\n",
      "3 2\n",
      "Iteration 1 value is:  3 and iteration 2 value is: 3\n",
      "3 3\n",
      "Iteration 1 value is : 4\n",
      "Iteration 1 value is:  4 and iteration 2 value is: 0\n",
      "4 0\n",
      "Iteration 1 value is:  4 and iteration 2 value is: 1\n",
      "4 1\n",
      "Iteration 1 value is:  4 and iteration 2 value is: 2\n",
      "4 2\n",
      "Iteration 1 value is:  4 and iteration 2 value is: 3\n",
      "4 3\n",
      "Iteration 1 value is:  4 and iteration 2 value is: 4\n",
      "4 4\n",
      "Iteration 1 value is : 5\n",
      "Iteration 1 value is:  5 and iteration 2 value is: 0\n",
      "5 0\n",
      "Iteration 1 value is:  5 and iteration 2 value is: 1\n",
      "5 1\n",
      "Iteration 1 value is:  5 and iteration 2 value is: 2\n",
      "5 2\n",
      "Iteration 1 value is:  5 and iteration 2 value is: 3\n",
      "5 3\n",
      "Iteration 1 value is:  5 and iteration 2 value is: 4\n",
      "5 4\n",
      "Iteration 1 value is:  5 and iteration 2 value is: 5\n",
      "5 5\n"
     ]
    }
   ],
   "source": [
    "for iter1 in range(0,6):\n",
    "    print('Iteration 1 value is :',iter1)\n",
    "    for iter2 in range(0,1+iter1):\n",
    "        print('Iteration 1 value is: ', iter1, 'and iteration 2 value is:',iter2)\n",
    "        print(iter1,iter2)"
   ]
  },
  {
   "cell_type": "code",
   "execution_count": 12,
   "metadata": {},
   "outputs": [
    {
     "name": "stdout",
     "output_type": "stream",
     "text": [
      "Iteration 1 value is : 0\n",
      "Iteration 1 value is:  0 and iteration 2 value is: 0\n",
      "Iteration 1 value is:  0 and iteration 2 value is: 0 Iteration 3 value is:  0\n",
      "0 0 0\n",
      "Iteration 1 value is : 1\n",
      "Iteration 1 value is:  1 and iteration 2 value is: 0\n",
      "Iteration 1 value is:  1 and iteration 2 value is: 0 Iteration 3 value is:  0\n",
      "1 0 0\n",
      "Iteration 1 value is:  1 and iteration 2 value is: 1\n",
      "Iteration 1 value is:  1 and iteration 2 value is: 1 Iteration 3 value is:  0\n",
      "1 1 0\n",
      "Iteration 1 value is:  1 and iteration 2 value is: 1 Iteration 3 value is:  1\n",
      "1 1 1\n",
      "Iteration 1 value is : 2\n",
      "Iteration 1 value is:  2 and iteration 2 value is: 0\n",
      "Iteration 1 value is:  2 and iteration 2 value is: 0 Iteration 3 value is:  0\n",
      "2 0 0\n",
      "Iteration 1 value is:  2 and iteration 2 value is: 1\n",
      "Iteration 1 value is:  2 and iteration 2 value is: 1 Iteration 3 value is:  0\n",
      "2 1 0\n",
      "Iteration 1 value is:  2 and iteration 2 value is: 1 Iteration 3 value is:  1\n",
      "2 1 1\n",
      "Iteration 1 value is:  2 and iteration 2 value is: 2\n",
      "Iteration 1 value is:  2 and iteration 2 value is: 2 Iteration 3 value is:  0\n",
      "2 2 0\n",
      "Iteration 1 value is:  2 and iteration 2 value is: 2 Iteration 3 value is:  1\n",
      "2 2 1\n",
      "Iteration 1 value is:  2 and iteration 2 value is: 2 Iteration 3 value is:  2\n",
      "2 2 2\n",
      "Iteration 1 value is : 3\n",
      "Iteration 1 value is:  3 and iteration 2 value is: 0\n",
      "Iteration 1 value is:  3 and iteration 2 value is: 0 Iteration 3 value is:  0\n",
      "3 0 0\n",
      "Iteration 1 value is:  3 and iteration 2 value is: 1\n",
      "Iteration 1 value is:  3 and iteration 2 value is: 1 Iteration 3 value is:  0\n",
      "3 1 0\n",
      "Iteration 1 value is:  3 and iteration 2 value is: 1 Iteration 3 value is:  1\n",
      "3 1 1\n",
      "Iteration 1 value is:  3 and iteration 2 value is: 2\n",
      "Iteration 1 value is:  3 and iteration 2 value is: 2 Iteration 3 value is:  0\n",
      "3 2 0\n",
      "Iteration 1 value is:  3 and iteration 2 value is: 2 Iteration 3 value is:  1\n",
      "3 2 1\n",
      "Iteration 1 value is:  3 and iteration 2 value is: 2 Iteration 3 value is:  2\n",
      "3 2 2\n",
      "Iteration 1 value is:  3 and iteration 2 value is: 3\n",
      "Iteration 1 value is:  3 and iteration 2 value is: 3 Iteration 3 value is:  0\n",
      "3 3 0\n",
      "Iteration 1 value is:  3 and iteration 2 value is: 3 Iteration 3 value is:  1\n",
      "3 3 1\n",
      "Iteration 1 value is:  3 and iteration 2 value is: 3 Iteration 3 value is:  2\n",
      "3 3 2\n",
      "Iteration 1 value is:  3 and iteration 2 value is: 3 Iteration 3 value is:  3\n",
      "3 3 3\n",
      "Iteration 1 value is : 4\n",
      "Iteration 1 value is:  4 and iteration 2 value is: 0\n",
      "Iteration 1 value is:  4 and iteration 2 value is: 0 Iteration 3 value is:  0\n",
      "4 0 0\n",
      "Iteration 1 value is:  4 and iteration 2 value is: 1\n",
      "Iteration 1 value is:  4 and iteration 2 value is: 1 Iteration 3 value is:  0\n",
      "4 1 0\n",
      "Iteration 1 value is:  4 and iteration 2 value is: 1 Iteration 3 value is:  1\n",
      "4 1 1\n",
      "Iteration 1 value is:  4 and iteration 2 value is: 2\n",
      "Iteration 1 value is:  4 and iteration 2 value is: 2 Iteration 3 value is:  0\n",
      "4 2 0\n",
      "Iteration 1 value is:  4 and iteration 2 value is: 2 Iteration 3 value is:  1\n",
      "4 2 1\n",
      "Iteration 1 value is:  4 and iteration 2 value is: 2 Iteration 3 value is:  2\n",
      "4 2 2\n",
      "Iteration 1 value is:  4 and iteration 2 value is: 3\n",
      "Iteration 1 value is:  4 and iteration 2 value is: 3 Iteration 3 value is:  0\n",
      "4 3 0\n",
      "Iteration 1 value is:  4 and iteration 2 value is: 3 Iteration 3 value is:  1\n",
      "4 3 1\n",
      "Iteration 1 value is:  4 and iteration 2 value is: 3 Iteration 3 value is:  2\n",
      "4 3 2\n",
      "Iteration 1 value is:  4 and iteration 2 value is: 3 Iteration 3 value is:  3\n",
      "4 3 3\n",
      "Iteration 1 value is:  4 and iteration 2 value is: 4\n",
      "Iteration 1 value is:  4 and iteration 2 value is: 4 Iteration 3 value is:  0\n",
      "4 4 0\n",
      "Iteration 1 value is:  4 and iteration 2 value is: 4 Iteration 3 value is:  1\n",
      "4 4 1\n",
      "Iteration 1 value is:  4 and iteration 2 value is: 4 Iteration 3 value is:  2\n",
      "4 4 2\n",
      "Iteration 1 value is:  4 and iteration 2 value is: 4 Iteration 3 value is:  3\n",
      "4 4 3\n",
      "Iteration 1 value is:  4 and iteration 2 value is: 4 Iteration 3 value is:  4\n",
      "4 4 4\n",
      "Iteration 1 value is : 5\n",
      "Iteration 1 value is:  5 and iteration 2 value is: 0\n",
      "Iteration 1 value is:  5 and iteration 2 value is: 0 Iteration 3 value is:  0\n",
      "5 0 0\n",
      "Iteration 1 value is:  5 and iteration 2 value is: 1\n",
      "Iteration 1 value is:  5 and iteration 2 value is: 1 Iteration 3 value is:  0\n",
      "5 1 0\n",
      "Iteration 1 value is:  5 and iteration 2 value is: 1 Iteration 3 value is:  1\n",
      "5 1 1\n",
      "Iteration 1 value is:  5 and iteration 2 value is: 2\n",
      "Iteration 1 value is:  5 and iteration 2 value is: 2 Iteration 3 value is:  0\n",
      "5 2 0\n",
      "Iteration 1 value is:  5 and iteration 2 value is: 2 Iteration 3 value is:  1\n",
      "5 2 1\n",
      "Iteration 1 value is:  5 and iteration 2 value is: 2 Iteration 3 value is:  2\n",
      "5 2 2\n",
      "Iteration 1 value is:  5 and iteration 2 value is: 3\n",
      "Iteration 1 value is:  5 and iteration 2 value is: 3 Iteration 3 value is:  0\n",
      "5 3 0\n",
      "Iteration 1 value is:  5 and iteration 2 value is: 3 Iteration 3 value is:  1\n",
      "5 3 1\n",
      "Iteration 1 value is:  5 and iteration 2 value is: 3 Iteration 3 value is:  2\n",
      "5 3 2\n",
      "Iteration 1 value is:  5 and iteration 2 value is: 3 Iteration 3 value is:  3\n",
      "5 3 3\n",
      "Iteration 1 value is:  5 and iteration 2 value is: 4\n",
      "Iteration 1 value is:  5 and iteration 2 value is: 4 Iteration 3 value is:  0\n",
      "5 4 0\n",
      "Iteration 1 value is:  5 and iteration 2 value is: 4 Iteration 3 value is:  1\n",
      "5 4 1\n",
      "Iteration 1 value is:  5 and iteration 2 value is: 4 Iteration 3 value is:  2\n",
      "5 4 2\n",
      "Iteration 1 value is:  5 and iteration 2 value is: 4 Iteration 3 value is:  3\n",
      "5 4 3\n",
      "Iteration 1 value is:  5 and iteration 2 value is: 4 Iteration 3 value is:  4\n",
      "5 4 4\n",
      "Iteration 1 value is:  5 and iteration 2 value is: 5\n",
      "Iteration 1 value is:  5 and iteration 2 value is: 5 Iteration 3 value is:  0\n",
      "5 5 0\n",
      "Iteration 1 value is:  5 and iteration 2 value is: 5 Iteration 3 value is:  1\n",
      "5 5 1\n",
      "Iteration 1 value is:  5 and iteration 2 value is: 5 Iteration 3 value is:  2\n",
      "5 5 2\n",
      "Iteration 1 value is:  5 and iteration 2 value is: 5 Iteration 3 value is:  3\n",
      "5 5 3\n",
      "Iteration 1 value is:  5 and iteration 2 value is: 5 Iteration 3 value is:  4\n",
      "5 5 4\n",
      "Iteration 1 value is:  5 and iteration 2 value is: 5 Iteration 3 value is:  5\n",
      "5 5 5\n"
     ]
    }
   ],
   "source": [
    "for iter1 in range(0,6):\n",
    "    print('Iteration 1 value is :',iter1)\n",
    "    for iter2 in range(0,1+iter1):\n",
    "        print('Iteration 1 value is: ', iter1, 'and iteration 2 value is:',iter2)\n",
    "        for iter3 in range(0,1+iter2):\n",
    "            print('Iteration 1 value is: ', iter1, 'and iteration 2 value is:',iter2,'Iteration 3 value is: ',iter3)\n",
    "            print(iter1,iter2,iter3)"
   ]
  },
  {
   "cell_type": "code",
   "execution_count": 16,
   "metadata": {},
   "outputs": [
    {
     "name": "stdout",
     "output_type": "stream",
     "text": [
      "0 0\n",
      "\n",
      "1 0\n",
      "1 1\n",
      "\n",
      "2 0\n",
      "2 1\n",
      "2 2\n",
      "\n",
      "3 0\n",
      "3 1\n",
      "3 2\n",
      "3 3\n",
      "\n",
      "4 0\n",
      "4 1\n",
      "4 2\n",
      "4 3\n",
      "4 4\n",
      "\n"
     ]
    }
   ],
   "source": [
    "##Solution\n",
    "\n",
    "n = 5\n",
    "for i in range(0, n):\n",
    "        for j in range(0, i+1):\n",
    "##By default, the value of this parameter is ‘\\n’, \n",
    "##i.e. the new line character. \n",
    "##You can end a print statement with any character/string using this parameter.\n",
    "            #print(\"# \" ,end=\"\")\n",
    "            print(i,j)\n",
    "        print()"
   ]
  },
  {
   "cell_type": "markdown",
   "metadata": {},
   "source": [
    "#Pattern to print\n",
    "\n",
    "\n",
    "*\n",
    "**\n",
    "***\n",
    "****\n",
    "*****\n",
    "******\n",
    "*****\n",
    "****\n",
    "***\n",
    "**\n",
    "*"
   ]
  },
  {
   "cell_type": "code",
   "execution_count": 6,
   "metadata": {},
   "outputs": [
    {
     "name": "stdout",
     "output_type": "stream",
     "text": [
      "*\n",
      "**\n",
      "***\n",
      "****\n",
      "*****\n",
      "******\n",
      "*****\n",
      "****\n",
      "***\n",
      "**\n",
      "*\n"
     ]
    }
   ],
   "source": [
    "strl = ''\n",
    "for i in range(0,11):\n",
    "    if i < 6:\n",
    "        strl = strl + '*'\n",
    "        print(strl)\n",
    "    elif i > 5:\n",
    "        strl = strl[:-1]\n",
    "        print(strl)\n"
   ]
  },
  {
   "cell_type": "code",
   "execution_count": 22,
   "metadata": {},
   "outputs": [
    {
     "data": {
      "text/plain": [
       "'**'"
      ]
     },
     "execution_count": 22,
     "metadata": {},
     "output_type": "execute_result"
    }
   ],
   "source": [
    "strl=''\n",
    "strl = strl + '*'\n",
    "strl\n",
    "strl = strl + '*'\n",
    "strl"
   ]
  },
  {
   "cell_type": "markdown",
   "metadata": {},
   "source": [
    "# Assignmnet 3:\n",
    "\n",
    "#1) Define a string \"Hello this Is an Example With cased letters\"\n",
    "#2) Write a program to sort alphabetically the words form a string provided by the user"
   ]
  },
  {
   "cell_type": "code",
   "execution_count": 40,
   "metadata": {},
   "outputs": [
    {
     "name": "stdout",
     "output_type": "stream",
     "text": [
      "The sorted words are:\n",
      "Example\n",
      "Hello\n",
      "Is\n",
      "With\n",
      "an\n",
      "cased\n",
      "letters\n",
      "this\n"
     ]
    }
   ],
   "source": [
    "my_str = \"Hello this Is an Example With cased letters\"\n",
    "\n",
    "# breakdown the string into a list of words\n",
    "words = my_str.split()\n",
    "\n",
    "# sort the list\n",
    "words.sort()\n",
    "\n",
    "a = words\n",
    "# display the sorted words\n",
    "\n",
    "print(\"The sorted words are:\")\n",
    "for word in words:\n",
    "   print(word)"
   ]
  },
  {
   "cell_type": "code",
   "execution_count": null,
   "metadata": {
    "collapsed": true
   },
   "outputs": [],
   "source": []
  },
  {
   "cell_type": "markdown",
   "metadata": {},
   "source": [
    "# Assignment 4\n",
    "\n",
    "#1) define a string \"Hello!!!, he said ---and went.\"\n",
    "#2) Remove all punctuation from string\n",
    "#3) output should be \"Hello he said and went\""
   ]
  },
  {
   "cell_type": "code",
   "execution_count": 1,
   "metadata": {},
   "outputs": [
    {
     "name": "stdout",
     "output_type": "stream",
     "text": [
      "Hello he said and went\n"
     ]
    }
   ],
   "source": [
    "# define punctuation\n",
    "punctuations = '''!()-[]{};:'\"\\,<>./?@#$%^&*_~'''\n",
    "\n",
    "my_str = \"Hello!!!, he said ---and went.\"\n",
    "\n",
    "no_punct = \"\"\n",
    "for char in my_str:\n",
    "    if char not in punctuations:\n",
    "       no_punct = no_punct + char\n",
    "\n",
    "# display the unpunctuated string\n",
    "print(no_punct)"
   ]
  },
  {
   "cell_type": "markdown",
   "metadata": {},
   "source": [
    "# Assignment\n",
    "\n",
    "#1. Identify the vowels in my_string\n",
    "#2. Print all the vowels\n",
    "#3. Answer should be \"aaaiea\""
   ]
  },
  {
   "cell_type": "code",
   "execution_count": null,
   "metadata": {
    "collapsed": true
   },
   "outputs": [],
   "source": [
    "#sol:\n",
    "\n",
    "\n",
    "\n",
    "\n",
    "vowels = ''\n",
    "for alphabet in my_string:\n",
    "    if alphabet in 'aeiou':\n",
    "        vowels = vowels + alphabet\n",
    "print(vowels)"
   ]
  },
  {
   "cell_type": "markdown",
   "metadata": {},
   "source": [
    "# While Loop\n",
    "\n",
    "#while Loop is used to execute number of statements or body till the condition passed in while is true. Once the #condition is false, the control will come out of the loop.\n",
    "\n",
    "#Here, body will execute multiple times till the expression passed is true. The Body may be a single statement or #multiple statement.\n",
    "\n",
    "# Steps:\n",
    "\n",
    "#1.Firstly, the value in the variable is initialized.\n",
    "#2.Secondly, the condition/expression in the while is evaluated. Consequently if condition is true, the control enters in the body and executes all the statements . If the condition/expression passed results in false then the control exists the body and straight away control goes to next instruction after body of while.\n",
    "#3.Thirdly, in case condition was true having completed all the statements, the variable is incremented or decremented. Having changed the value of variable step second is followed. This process continues till the expression/condition becomes false.\n",
    "#4.Finally Rest of code after body is executed.\n"
   ]
  },
  {
   "cell_type": "code",
   "execution_count": 17,
   "metadata": {},
   "outputs": [
    {
     "name": "stdout",
     "output_type": "stream",
     "text": [
      "Value of a is 10\n",
      "Value of a is 8\n",
      "Value of a is 6\n",
      "Value of a is 4\n",
      "Value of a is 2\n"
     ]
    }
   ],
   "source": [
    "a=10  \n",
    "while a>0:  \n",
    "    print(\"Value of a is\",a)  \n",
    "    a=a-2"
   ]
  },
  {
   "cell_type": "markdown",
   "metadata": {},
   "source": [
    "# Assignment5\n",
    "\n",
    "Write a program to add the digits\n",
    "\n",
    "For example:\n",
    "\n",
    "digits 123456 = 1+2+3+4+5+6 --> 21\n",
    "\n"
   ]
  },
  {
   "cell_type": "code",
   "execution_count": 3,
   "metadata": {},
   "outputs": [
    {
     "name": "stdout",
     "output_type": "stream",
     "text": [
      "21\n"
     ]
    }
   ],
   "source": [
    "n=123456  \n",
    "sum1=0  \n",
    "while n>0:  \n",
    "    r=n%10 \n",
    "    sum1+=r  \n",
    "    n=n//10  \n",
    "print(sum1) "
   ]
  },
  {
   "cell_type": "markdown",
   "metadata": {},
   "source": [
    "# Break, Continue and Pass\n",
    "\n",
    "Break is used to exit a for loop or while loop whereas continue is used to skip the current block and return to for or while statement\n"
   ]
  },
  {
   "cell_type": "code",
   "execution_count": 6,
   "metadata": {},
   "outputs": [
    {
     "name": "stdout",
     "output_type": "stream",
     "text": [
      "0\n",
      "1\n",
      "2\n",
      "3\n",
      "4\n"
     ]
    }
   ],
   "source": [
    "count = 0\n",
    "while True:\n",
    "    print(count)\n",
    "    count +=1\n",
    "    if count >=5:\n",
    "        break"
   ]
  },
  {
   "cell_type": "code",
   "execution_count": 16,
   "metadata": {},
   "outputs": [
    {
     "name": "stdout",
     "output_type": "stream",
     "text": [
      "10\n",
      "20\n",
      "40\n",
      "50\n"
     ]
    }
   ],
   "source": [
    "for x in [10,20,30,40,50]:\n",
    "    if x == 30:\n",
    "        continue\n",
    "        #break\n",
    "    print(x)"
   ]
  },
  {
   "cell_type": "code",
   "execution_count": 18,
   "metadata": {},
   "outputs": [
    {
     "name": "stdout",
     "output_type": "stream",
     "text": [
      "Hi\n"
     ]
    }
   ],
   "source": [
    "x = 10\n",
    "if x > 0:\n",
    "    pass\n",
    "    #print(\"Update later\")\n",
    "print(\"Hi\")"
   ]
  },
  {
   "cell_type": "markdown",
   "metadata": {},
   "source": [
    "# Assignment 6\n",
    "\n",
    "Print out only odd numbers from 0 to 10"
   ]
  },
  {
   "cell_type": "code",
   "execution_count": 19,
   "metadata": {},
   "outputs": [
    {
     "name": "stdout",
     "output_type": "stream",
     "text": [
      "1\n",
      "3\n",
      "5\n",
      "7\n",
      "9\n"
     ]
    }
   ],
   "source": [
    "for x in range(10):\n",
    "    if x % 2 != 0:\n",
    "        print(x)"
   ]
  },
  {
   "cell_type": "code",
   "execution_count": null,
   "metadata": {
    "collapsed": true
   },
   "outputs": [],
   "source": [
    "for x in range(10):\n",
    "    if x % 2 == 0:\n",
    "        continue\n",
    "    print(x)\n",
    "        "
   ]
  },
  {
   "cell_type": "markdown",
   "metadata": {},
   "source": [
    "# Can we use else clause for loops?\n",
    "\n",
    "Unkike other languages, we can use else for loops. When hte loop condition of \"for\" or \"while\" statement fails then then the code part in \"else\" is executed\n",
    "\n",
    "If the \"break\" statement is executed inside the loop then the \"else\" part is skipped. \n",
    "\n",
    "Note that \"else\" part is executed even if there is a continue statement"
   ]
  },
  {
   "cell_type": "code",
   "execution_count": 9,
   "metadata": {},
   "outputs": [
    {
     "name": "stdout",
     "output_type": "stream",
     "text": [
      "0\n",
      "1\n",
      "2\n",
      "3\n",
      "4\n",
      "count value reached 5\n"
     ]
    }
   ],
   "source": [
    "count = 0\n",
    "while(count<5):\n",
    "    print(count)\n",
    "    count += 1\n",
    "else:\n",
    "    print(\"count value reached %d\" %(count))"
   ]
  },
  {
   "cell_type": "code",
   "execution_count": 10,
   "metadata": {},
   "outputs": [
    {
     "name": "stdout",
     "output_type": "stream",
     "text": [
      "1\n",
      "2\n",
      "3\n",
      "4\n"
     ]
    }
   ],
   "source": [
    "for i in range(1,10):\n",
    "    if (i%5==0):\n",
    "        #break\n",
    "        continue\n",
    "    print(i)\n",
    "else:\n",
    "    print(\"print else part\")"
   ]
  },
  {
   "cell_type": "code",
   "execution_count": null,
   "metadata": {
    "collapsed": true
   },
   "outputs": [],
   "source": []
  }
 ],
 "metadata": {
  "kernelspec": {
   "display_name": "Python 3",
   "language": "python",
   "name": "python3"
  },
  "language_info": {
   "codemirror_mode": {
    "name": "ipython",
    "version": 3
   },
   "file_extension": ".py",
   "mimetype": "text/x-python",
   "name": "python",
   "nbconvert_exporter": "python",
   "pygments_lexer": "ipython3",
   "version": "3.7.4"
  }
 },
 "nbformat": 4,
 "nbformat_minor": 2
}
