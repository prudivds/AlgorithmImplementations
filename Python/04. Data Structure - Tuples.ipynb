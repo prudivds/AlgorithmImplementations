{
 "cells": [
  {
   "cell_type": "code",
   "execution_count": 2,
   "metadata": {
    "collapsed": true
   },
   "outputs": [],
   "source": [
    "##############################################################################\n",
    "#### Python Session                       \n",
    "#### Date:  01/29/2018\n",
    "#### Author: Prudhvi\n",
    "\n",
    "##### Description: This session will cover:\n",
    "                     #Working with Tuples \n",
    "                     \n",
    "##############################################################################"
   ]
  },
  {
   "cell_type": "markdown",
   "metadata": {
    "collapsed": true
   },
   "source": [
    "\n",
    "# Tuples\n",
    "\n",
    "Tuples are datastructure that are similar to the list in all aspect except in the way they are declared \n",
    "and how much they allow themselves to be modified. As we have seen in the case of list, they can be change\n",
    "and sometime when you are sorting important information in a list and using it somewhere else in the code,\n",
    "you run the risk of accidently modifying them and loosing data or corrupting it.\n",
    "\n",
    "\n",
    "A tuple is a sequence of immutable objects, therefore tuple cannot be changed.\n",
    "\n",
    "The objects are enclosed within parenthesis and separated by comma."
   ]
  },
  {
   "cell_type": "code",
   "execution_count": 2,
   "metadata": {},
   "outputs": [
    {
     "name": "stdout",
     "output_type": "stream",
     "text": [
      "()\n",
      "<class 'tuple'>\n"
     ]
    }
   ],
   "source": [
    "#Empty tuple\n",
    "\n",
    "tuple1 = ()\n",
    "print(tuple1)\n",
    "print(type(tuple1))\n"
   ]
  },
  {
   "cell_type": "code",
   "execution_count": 1,
   "metadata": {},
   "outputs": [
    {
     "data": {
      "text/plain": [
       "list"
      ]
     },
     "execution_count": 1,
     "metadata": {},
     "output_type": "execute_result"
    }
   ],
   "source": [
    "list1=[10]\n",
    "type(list1)"
   ]
  },
  {
   "cell_type": "code",
   "execution_count": 2,
   "metadata": {},
   "outputs": [
    {
     "name": "stdout",
     "output_type": "stream",
     "text": [
      "<class 'int'>\n",
      "10\n"
     ]
    }
   ],
   "source": [
    "tuple2 = (10)\n",
    "print(type(tuple2))\n",
    "print(tuple2)"
   ]
  },
  {
   "cell_type": "code",
   "execution_count": 3,
   "metadata": {},
   "outputs": [
    {
     "name": "stdout",
     "output_type": "stream",
     "text": [
      "<class 'tuple'>\n",
      "(10,)\n"
     ]
    }
   ],
   "source": [
    "#For a single value tuple, there must be a comma at the end of the value\n",
    "\n",
    "tuple3 = (10,)\n",
    "print(type(tuple3))\n",
    "print(tuple3)"
   ]
  },
  {
   "cell_type": "code",
   "execution_count": 5,
   "metadata": {},
   "outputs": [
    {
     "name": "stdout",
     "output_type": "stream",
     "text": [
      "('Monty Python', 30, 'Baker Street', 5.8)\n"
     ]
    }
   ],
   "source": [
    "first_tuple = (\"Monty Python\", 30, \"Baker Street\", 5.8)\n",
    "print(first_tuple)\n"
   ]
  },
  {
   "cell_type": "code",
   "execution_count": 6,
   "metadata": {},
   "outputs": [
    {
     "name": "stdout",
     "output_type": "stream",
     "text": [
      "((1, 2, 3, 4), (5, 6, 7))\n"
     ]
    }
   ],
   "source": [
    "#Tuple can also be nested\n",
    "\n",
    "tuple1 = (1,2,3,4)\n",
    "tuple2 = (tuple1,(5,6,7))\n",
    "\n",
    "print(tuple2)"
   ]
  },
  {
   "cell_type": "code",
   "execution_count": 9,
   "metadata": {},
   "outputs": [
    {
     "name": "stdout",
     "output_type": "stream",
     "text": [
      "('Mumbai', 18.995, 72.814)\n"
     ]
    }
   ],
   "source": [
    "#Tuples\n",
    "\n",
    "city_tuple = (\"Mumbai\", 18.995, 72.814)\n",
    "print(city_tuple)"
   ]
  },
  {
   "cell_type": "code",
   "execution_count": 10,
   "metadata": {},
   "outputs": [
    {
     "name": "stdout",
     "output_type": "stream",
     "text": [
      "Mumbai\n",
      "72.814\n",
      "('Mumbai', 18.995)\n"
     ]
    }
   ],
   "source": [
    "##Accessing Tuples\n",
    "\n",
    "#Tuple can be accessed in the same way as List.\n",
    "\n",
    "print(city_tuple[0])\n",
    "print(city_tuple[-1])\n",
    "print(city_tuple[0:2])"
   ]
  },
  {
   "cell_type": "markdown",
   "metadata": {},
   "source": [
    "# Tuple Operations\n",
    "\n",
    "Various Operations can be performed on Tuple.\n",
    "\n",
    "#1) Adding Tuple\n",
    "#2) Replicating Tuple\n",
    "#3) Tuple Sclicing\n",
    "#4) Creating new tuple from existing\n",
    "#5) Deleting elements fom tuple"
   ]
  },
  {
   "cell_type": "code",
   "execution_count": 10,
   "metadata": {},
   "outputs": [
    {
     "name": "stdout",
     "output_type": "stream",
     "text": [
      "(1, 2, 3, 4, 5, 6, 7, 8)\n"
     ]
    }
   ],
   "source": [
    "#Adding Tuple\n",
    "\n",
    "#Tuple can be added by using the concatenation operator (+) to join two tuples\n",
    "\n",
    "tuple1 = (1,2,3,4)\n",
    "tuple2 = (5,6,7,8)\n",
    "\n",
    "print(tuple1+tuple2)"
   ]
  },
  {
   "cell_type": "code",
   "execution_count": 11,
   "metadata": {},
   "outputs": [
    {
     "name": "stdout",
     "output_type": "stream",
     "text": [
      "(1, 2, 3, 4, 5, 1, 2, 3, 4, 5, 1, 2, 3, 4, 5)\n",
      "(1, 2, 3, 4, 5, 1, 2, 3, 4, 5)\n",
      "()\n",
      "()\n"
     ]
    }
   ],
   "source": [
    "#Replicating tuple\n",
    "\n",
    "#Replicating means repeating. It can be performed by using '*' operator by a specific number of time.\n",
    "\n",
    "tuple1 = (1,2,3,4,5)\n",
    "print(tuple1*3)\n",
    "print(tuple1*2)\n",
    "print(tuple1*0)\n",
    "print(tuple1*-1)"
   ]
  },
  {
   "cell_type": "code",
   "execution_count": 7,
   "metadata": {},
   "outputs": [
    {
     "name": "stdout",
     "output_type": "stream",
     "text": [
      "(1, 2, 3)\n",
      "(1, 2, 3, 4, 5)\n",
      "(6,)\n",
      "()\n"
     ]
    }
   ],
   "source": [
    "#Tuple Slicing\n",
    "\n",
    "#A subpart of a tuple can be retrieved on the basis of index. This subpart is known as tuple slice.\n",
    "\n",
    "tuple1 = (1,2,3,4,5,6)\n",
    "print(tuple1[0:3])\n",
    "print(tuple1[:-1])\n",
    "print(tuple1[-1:])\n",
    "print(tuple1[-1:-1])"
   ]
  },
  {
   "cell_type": "code",
   "execution_count": 8,
   "metadata": {},
   "outputs": [
    {
     "data": {
      "text/plain": [
       "(1, 2, 3, 4, 10, 20, 30, 40, 100, 200, 300, 400)"
      ]
     },
     "execution_count": 8,
     "metadata": {},
     "output_type": "execute_result"
    }
   ],
   "source": [
    "#Creating new tuple from the existing\n",
    "\n",
    "tuple1 = (1,2,3,4)\n",
    "tuple2 = (10,20,30,40)\n",
    "tuple3 = (100,200,300,400)\n",
    "\n",
    "tuple4 = tuple1+tuple2+tuple3\n",
    "tuple4"
   ]
  },
  {
   "cell_type": "code",
   "execution_count": 12,
   "metadata": {},
   "outputs": [
    {
     "name": "stdout",
     "output_type": "stream",
     "text": [
      "(1, 2, 3, 4)\n"
     ]
    },
    {
     "ename": "NameError",
     "evalue": "name 'tuple1' is not defined",
     "output_type": "error",
     "traceback": [
      "\u001b[0;31m---------------------------------------------------------------------------\u001b[0m",
      "\u001b[0;31mNameError\u001b[0m                                 Traceback (most recent call last)",
      "\u001b[0;32m<ipython-input-12-a53918ec78f9>\u001b[0m in \u001b[0;36m<module>\u001b[0;34m()\u001b[0m\n\u001b[1;32m     10\u001b[0m \u001b[0;32mdel\u001b[0m \u001b[0mtuple1\u001b[0m \u001b[0;31m#It will delete the tuple\u001b[0m\u001b[0;34m\u001b[0m\u001b[0m\n\u001b[1;32m     11\u001b[0m \u001b[0;34m\u001b[0m\u001b[0m\n\u001b[0;32m---> 12\u001b[0;31m \u001b[0mprint\u001b[0m\u001b[0;34m(\u001b[0m\u001b[0mtuple1\u001b[0m\u001b[0;34m)\u001b[0m\u001b[0;34m\u001b[0m\u001b[0m\n\u001b[0m",
      "\u001b[0;31mNameError\u001b[0m: name 'tuple1' is not defined"
     ]
    }
   ],
   "source": [
    "#Deleting elements from tuple\n",
    "\n",
    "#Deleting individual element from a tuple is not supported. \n",
    "#However the whole of the tuple can be deleted using the del statement.\n",
    "\n",
    "tuple1 = (1,2,3,4)\n",
    "\n",
    "print(tuple1)\n",
    "\n",
    "del tuple1 #It will delete the tuple\n",
    "\n",
    "print(tuple1)\n"
   ]
  },
  {
   "cell_type": "code",
   "execution_count": 11,
   "metadata": {},
   "outputs": [
    {
     "ename": "TypeError",
     "evalue": "'tuple' object does not support item assignment",
     "output_type": "error",
     "traceback": [
      "\u001b[1;31m---------------------------------------------------------------------------\u001b[0m",
      "\u001b[1;31mTypeError\u001b[0m                                 Traceback (most recent call last)",
      "\u001b[1;32m<ipython-input-11-0945b3e6e3cd>\u001b[0m in \u001b[0;36m<module>\u001b[1;34m()\u001b[0m\n\u001b[1;32m----> 1\u001b[1;33m \u001b[0mnew_tuple\u001b[0m\u001b[1;33m[\u001b[0m\u001b[1;36m1\u001b[0m\u001b[1;33m]\u001b[0m \u001b[1;33m=\u001b[0m \u001b[1;36m13.222\u001b[0m\u001b[1;33m\u001b[0m\u001b[0m\n\u001b[0m",
      "\u001b[1;31mTypeError\u001b[0m: 'tuple' object does not support item assignment"
     ]
    }
   ],
   "source": [
    "#Updating the elements in tuple\n",
    "#Tuples are immutable\n",
    "\n",
    "\n",
    "new_tuple[1] = 13.222"
   ]
  },
  {
   "cell_type": "code",
   "execution_count": 12,
   "metadata": {},
   "outputs": [
    {
     "data": {
      "text/plain": [
       "('Mumbai', 18.995)"
      ]
     },
     "execution_count": 12,
     "metadata": {},
     "output_type": "execute_result"
    }
   ],
   "source": [
    "city_tuple[:-1]"
   ]
  },
  {
   "cell_type": "code",
   "execution_count": 13,
   "metadata": {},
   "outputs": [
    {
     "name": "stdout",
     "output_type": "stream",
     "text": [
      "('Mumbai', 18.995)\n",
      "2\n",
      "c is: ['Mumbai', 18.995]\n",
      "d is: ('Mumbai', 18.995)\n"
     ]
    }
   ],
   "source": [
    "\n",
    "#Work Around to edit the tuples\n",
    "\n",
    "b = city_tuple[:-1]\n",
    "\n",
    "print(b)\n",
    "print(len(b))\n",
    "\n",
    "#Convert it into list\n",
    "c = list(b)\n",
    "print(\"c is: {0}\".format(c))\n",
    "d = tuple(c)\n",
    "print(\"d is: {0}\".format(d))"
   ]
  },
  {
   "cell_type": "markdown",
   "metadata": {},
   "source": [
    "# Tuple Functions\n",
    "\n",
    "#1) min(tuple) : Returns the minimum value from a tuple.\n",
    "#2) max(tuple) : Returns the maximum value from the tuple.\n",
    "#3) len(tuple) : Gives the length of a tuple\n",
    "#4) tuple(sequence) : Converts the sequence into tuple."
   ]
  },
  {
   "cell_type": "code",
   "execution_count": 9,
   "metadata": {},
   "outputs": [
    {
     "name": "stdout",
     "output_type": "stream",
     "text": [
      "3\n",
      "40\n",
      "5\n"
     ]
    }
   ],
   "source": [
    "#min(tuple)\n",
    "\n",
    "tuple1 = (10,20,3,40,5)\n",
    "\n",
    "print(min(tuple1))\n",
    "print(max(tuple1))\n",
    "print(len(tuple1))"
   ]
  },
  {
   "cell_type": "code",
   "execution_count": 10,
   "metadata": {},
   "outputs": [
    {
     "name": "stdout",
     "output_type": "stream",
     "text": [
      "(1, 2, 3, 4)\n"
     ]
    }
   ],
   "source": [
    "seq = [1,2,3,4]\n",
    "tuple1 = tuple(seq)\n",
    "print(tuple1)"
   ]
  },
  {
   "cell_type": "code",
   "execution_count": 18,
   "metadata": {},
   "outputs": [
    {
     "name": "stdout",
     "output_type": "stream",
     "text": [
      "('Mumbai', 18.995, 72.814)\n",
      "('Mumbai', 18.995, 72.814)\n"
     ]
    }
   ],
   "source": [
    "##You cannot copy a list with the = sign because lists are mutables. \n",
    "##The = sign creates a reference not a copy. \n",
    "\n",
    "#Tuples are immutable therefore a = sign does not create a reference but a copy as expected.\n",
    "city_tuple = ('Mumbai', 18.995, 72.814)\n",
    "new_tuple = city_tuple\n",
    "print(new_tuple)\n",
    "\n",
    "del city_tuple\n",
    "#print(city_tuple)\n",
    "print(new_tuple)\n",
    "\n"
   ]
  },
  {
   "cell_type": "code",
   "execution_count": 23,
   "metadata": {},
   "outputs": [
    {
     "name": "stdout",
     "output_type": "stream",
     "text": [
      "[18.995, 72.814]\n",
      "[18.995, 72.814]\n"
     ]
    }
   ],
   "source": [
    "city_tuple = ['Mumbai', 18.995, 72.814]\n",
    "new_tuple = city_tuple\n",
    "new_tuple.pop(0)\n",
    "print(new_tuple)\n",
    "\n",
    "del city_tuple\n",
    "#print(city_tuple)\n",
    "print(new_tuple)"
   ]
  },
  {
   "cell_type": "markdown",
   "metadata": {},
   "source": [
    "### Tuple Methods\n",
    "\n",
    "Tuples are optimised, which makes them very simple objects. There are two methods available only:\n",
    "\n",
    "#index, to find occurence of a value\n",
    "#count, to count the number of occurence of a value"
   ]
  },
  {
   "cell_type": "code",
   "execution_count": 28,
   "metadata": {},
   "outputs": [
    {
     "name": "stdout",
     "output_type": "stream",
     "text": [
      "3\n"
     ]
    },
    {
     "data": {
      "text/plain": [
       "0"
      ]
     },
     "execution_count": 28,
     "metadata": {},
     "output_type": "execute_result"
    }
   ],
   "source": [
    "l = (1,2,3,4,1,2,1)\n",
    "print(l.count(1))\n",
    "\n",
    "l.index(1)"
   ]
  },
  {
   "cell_type": "code",
   "execution_count": 8,
   "metadata": {},
   "outputs": [
    {
     "name": "stdout",
     "output_type": "stream",
     "text": [
      "[1, 2, 3, 4, [3, 6, 9]]\n",
      "(1, 2, 3, 4, [1, 2, 3])\n",
      "1\n",
      "(1, 2, 3, 4, [9, 2, 3])\n"
     ]
    }
   ],
   "source": [
    "# Tuples are not Fully mutable\n",
    "\n",
    "a = [1,2,3,4,[1,2,3]]\n",
    "a[4]=[3,6,9]\n",
    "print(a)\n",
    "\n",
    "a = (1,2,3,4,[1,2,3])\n",
    "print(a)\n",
    "\n",
    "print(a[4][0])\n",
    "\n",
    "a[4][0] = 9\n",
    "#a[2]=10\n",
    "\n",
    "print(a)"
   ]
  },
  {
   "cell_type": "code",
   "execution_count": 24,
   "metadata": {},
   "outputs": [
    {
     "name": "stdout",
     "output_type": "stream",
     "text": [
      "x : 1\n",
      "y : 2\n",
      "z : 3\n",
      "a : 0\n",
      "b : 1\n",
      "c : 2\n"
     ]
    }
   ],
   "source": [
    "#assigning multple values\n",
    "\n",
    "(x,y,z) = (1,2,3)\n",
    "\n",
    "print(\"x :\", x)\n",
    "print(\"y :\", y)\n",
    "print(\"z :\", z)\n",
    "\n",
    "\n",
    "(a,b,c) = range(3)\n",
    "\n",
    "print(\"a :\", a)\n",
    "print(\"b :\", b)\n",
    "print(\"c :\", c)"
   ]
  },
  {
   "cell_type": "markdown",
   "metadata": {
    "collapsed": true
   },
   "source": [
    "# Why Use Tuple?\n",
    "\n",
    "#1) Processing of Tuples are faster than Lists.\n",
    "#2) It makes the data safe as Tuples are immutable and hence cannot be changed"
   ]
  },
  {
   "cell_type": "code",
   "execution_count": null,
   "metadata": {
    "collapsed": true
   },
   "outputs": [],
   "source": [
    "a="
   ]
  }
 ],
 "metadata": {
  "kernelspec": {
   "display_name": "Python 3",
   "language": "python",
   "name": "python3"
  },
  "language_info": {
   "codemirror_mode": {
    "name": "ipython",
    "version": 3
   },
   "file_extension": ".py",
   "mimetype": "text/x-python",
   "name": "python",
   "nbconvert_exporter": "python",
   "pygments_lexer": "ipython3",
   "version": "3.7.4"
  }
 },
 "nbformat": 4,
 "nbformat_minor": 2
}
